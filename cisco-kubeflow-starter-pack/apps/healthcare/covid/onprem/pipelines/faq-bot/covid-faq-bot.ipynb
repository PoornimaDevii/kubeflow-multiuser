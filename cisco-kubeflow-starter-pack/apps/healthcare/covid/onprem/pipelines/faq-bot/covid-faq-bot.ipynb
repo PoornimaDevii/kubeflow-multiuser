{
 "cells": [
  {
   "cell_type": "markdown",
   "metadata": {},
   "source": [
    "## Rasa nlu"
   ]
  },
  {
   "cell_type": "markdown",
   "metadata": {},
   "source": [
    "## Clone git repo"
   ]
  },
  {
   "cell_type": "code",
   "execution_count": 1,
   "metadata": {},
   "outputs": [
    {
     "name": "stdout",
     "output_type": "stream",
     "text": [
      "Cloning into 'cisco-kubeflow-starter-pack'...\n",
      "remote: Enumerating objects: 125, done.\u001b[K\n",
      "remote: Counting objects: 100% (125/125), done.\u001b[K\n",
      "remote: Compressing objects: 100% (93/93), done.\u001b[K\n",
      "remote: Total 3361 (delta 20), reused 112 (delta 14), pack-reused 3236\u001b[K\n",
      "Receiving objects: 100% (3361/3361), 12.09 MiB | 6.05 MiB/s, done.\n",
      "Resolving deltas: 100% (1271/1271), done.\n"
     ]
    }
   ],
   "source": [
    "BRANCH_NAME='master'\n",
    "! git clone -b $BRANCH_NAME https://github.com/CiscoAI/cisco-kubeflow-starter-pack.git"
   ]
  },
  {
   "cell_type": "markdown",
   "metadata": {},
   "source": [
    "## Create requirements.txt"
   ]
  },
  {
   "cell_type": "code",
   "execution_count": 2,
   "metadata": {},
   "outputs": [
    {
     "name": "stdout",
     "output_type": "stream",
     "text": [
      "Writing requirements.txt\n"
     ]
    }
   ],
   "source": [
    "%%writefile requirements.txt\n",
    "kfp\n",
    "minio\n",
    "boto3\n",
    "rasa\n",
    "nest_asyncio\n",
    "lxml\n",
    "bs4\n",
    "rasa_sdk"
   ]
  },
  {
   "cell_type": "markdown",
   "metadata": {},
   "source": [
    "## Install libraries"
   ]
  },
  {
   "cell_type": "code",
   "execution_count": 3,
   "metadata": {},
   "outputs": [
    {
     "name": "stdout",
     "output_type": "stream",
     "text": [
      "Requirement already satisfied: kfp in ./.local/lib/python3.6/site-packages (from -r requirements.txt (line 1)) (0.5.1)\n",
      "Requirement already satisfied: minio in ./.local/lib/python3.6/site-packages (from -r requirements.txt (line 2)) (5.0.10)\n",
      "Requirement already satisfied: boto3 in ./.local/lib/python3.6/site-packages (from -r requirements.txt (line 3)) (1.13.19)\n",
      "Requirement already satisfied: rasa in ./.local/lib/python3.6/site-packages (from -r requirements.txt (line 4)) (1.10.2)\n",
      "Requirement already satisfied: nest_asyncio in ./.local/lib/python3.6/site-packages (from -r requirements.txt (line 5)) (1.3.3)\n",
      "Requirement already satisfied: lxml in ./.local/lib/python3.6/site-packages (from -r requirements.txt (line 6)) (4.5.1)\n",
      "Requirement already satisfied: bs4 in ./.local/lib/python3.6/site-packages (from -r requirements.txt (line 7)) (0.0.1)\n",
      "Requirement already satisfied: rasa_sdk in ./.local/lib/python3.6/site-packages (from -r requirements.txt (line 8)) (1.10.1)\n",
      "Requirement already satisfied: kubernetes<12.0.0,>=8.0.0 in /usr/local/lib/python3.6/dist-packages (from kfp->-r requirements.txt (line 1)) (10.0.1)\n",
      "Requirement already satisfied: cloudpickle in ./.local/lib/python3.6/site-packages (from kfp->-r requirements.txt (line 1)) (1.3.0)\n",
      "Requirement already satisfied: google-cloud-storage>=1.13.0 in /usr/local/lib/python3.6/dist-packages (from kfp->-r requirements.txt (line 1)) (1.25.0)\n",
      "Requirement already satisfied: click in ./.local/lib/python3.6/site-packages (from kfp->-r requirements.txt (line 1)) (7.1.2)\n",
      "Requirement already satisfied: PyYAML in /usr/local/lib/python3.6/dist-packages (from kfp->-r requirements.txt (line 1)) (5.3)\n",
      "Requirement already satisfied: tabulate in ./.local/lib/python3.6/site-packages (from kfp->-r requirements.txt (line 1)) (0.8.7)\n",
      "Requirement already satisfied: kfp-server-api<0.6.0,>=0.2.5 in ./.local/lib/python3.6/site-packages (from kfp->-r requirements.txt (line 1)) (0.5.0)\n",
      "Requirement already satisfied: strip-hints in ./.local/lib/python3.6/site-packages (from kfp->-r requirements.txt (line 1)) (0.1.9)\n",
      "Requirement already satisfied: Deprecated in ./.local/lib/python3.6/site-packages (from kfp->-r requirements.txt (line 1)) (1.2.10)\n",
      "Requirement already satisfied: jsonschema>=3.0.1 in ./.local/lib/python3.6/site-packages (from kfp->-r requirements.txt (line 1)) (3.2.0)\n",
      "Requirement already satisfied: google-auth>=1.6.1 in /usr/local/lib/python3.6/dist-packages (from kfp->-r requirements.txt (line 1)) (1.11.0)\n",
      "Requirement already satisfied: requests-toolbelt>=0.8.0 in ./.local/lib/python3.6/site-packages (from kfp->-r requirements.txt (line 1)) (0.9.1)\n",
      "Requirement already satisfied: pytz in ./.local/lib/python3.6/site-packages (from minio->-r requirements.txt (line 2)) (2019.3)\n",
      "Requirement already satisfied: urllib3 in /usr/local/lib/python3.6/dist-packages (from minio->-r requirements.txt (line 2)) (1.25.8)\n",
      "Requirement already satisfied: configparser in ./.local/lib/python3.6/site-packages (from minio->-r requirements.txt (line 2)) (5.0.0)\n",
      "Requirement already satisfied: certifi in /usr/local/lib/python3.6/dist-packages (from minio->-r requirements.txt (line 2)) (2019.11.28)\n",
      "Requirement already satisfied: python-dateutil in /usr/local/lib/python3.6/dist-packages (from minio->-r requirements.txt (line 2)) (2.8.1)\n",
      "Requirement already satisfied: s3transfer<0.4.0,>=0.3.0 in ./.local/lib/python3.6/site-packages (from boto3->-r requirements.txt (line 3)) (0.3.3)\n",
      "Requirement already satisfied: jmespath<1.0.0,>=0.7.1 in ./.local/lib/python3.6/site-packages (from boto3->-r requirements.txt (line 3)) (0.10.0)\n",
      "Requirement already satisfied: botocore<1.17.0,>=1.16.19 in ./.local/lib/python3.6/site-packages (from boto3->-r requirements.txt (line 3)) (1.16.19)\n",
      "Requirement already satisfied: attrs<19.4,>=19.3 in /usr/local/lib/python3.6/dist-packages (from rasa->-r requirements.txt (line 4)) (19.3.0)\n",
      "Requirement already satisfied: fbmessenger<6.1.0,>=6.0.0 in ./.local/lib/python3.6/site-packages (from rasa->-r requirements.txt (line 4)) (6.0.0)\n",
      "Requirement already satisfied: tensorflow-estimator==2.1.0 in ./.local/lib/python3.6/site-packages (from rasa->-r requirements.txt (line 4)) (2.1.0)\n",
      "Requirement already satisfied: python-socketio<4.6,>=4.4 in ./.local/lib/python3.6/site-packages (from rasa->-r requirements.txt (line 4)) (4.5.1)\n",
      "Requirement already satisfied: SQLAlchemy<1.4.0,>=1.3.3 in ./.local/lib/python3.6/site-packages (from rasa->-r requirements.txt (line 4)) (1.3.17)\n",
      "Requirement already satisfied: mattermostwrapper<2.3,>=2.2 in ./.local/lib/python3.6/site-packages (from rasa->-r requirements.txt (line 4)) (2.2)\n",
      "Requirement already satisfied: numpy<2.0,>=1.16 in /usr/local/lib/python3.6/dist-packages (from rasa->-r requirements.txt (line 4)) (1.18.1)\n",
      "Requirement already satisfied: ujson<3.0,>=1.35 in ./.local/lib/python3.6/site-packages (from rasa->-r requirements.txt (line 4)) (2.0.3)\n",
      "Requirement already satisfied: PyJWT<1.8,>=1.7 in ./.local/lib/python3.6/site-packages (from rasa->-r requirements.txt (line 4)) (1.7.1)\n",
      "Requirement already satisfied: aiohttp<3.7,>=3.6 in ./.local/lib/python3.6/site-packages (from rasa->-r requirements.txt (line 4)) (3.6.2)\n",
      "Requirement already satisfied: ruamel.yaml<0.17,>=0.16 in ./.local/lib/python3.6/site-packages (from rasa->-r requirements.txt (line 4)) (0.16.10)\n",
      "Requirement already satisfied: sklearn-crfsuite<0.4,>=0.3 in ./.local/lib/python3.6/site-packages (from rasa->-r requirements.txt (line 4)) (0.3.6)\n",
      "Requirement already satisfied: slackclient<3.0.0,>=2.0.0 in ./.local/lib/python3.6/site-packages (from rasa->-r requirements.txt (line 4)) (2.7.1)\n",
      "Requirement already satisfied: colorhash<1.1.0,>=1.0.2 in ./.local/lib/python3.6/site-packages (from rasa->-r requirements.txt (line 4)) (1.0.2)\n",
      "Requirement already satisfied: oauth2client==4.1.3 in /usr/local/lib/python3.6/dist-packages (from rasa->-r requirements.txt (line 4)) (4.1.3)\n",
      "Requirement already satisfied: tensorflow-addons<0.8.0,>=0.7.1 in ./.local/lib/python3.6/site-packages (from rasa->-r requirements.txt (line 4)) (0.7.1)\n",
      "Requirement already satisfied: scikit-learn<0.23,>=0.22 in ./.local/lib/python3.6/site-packages (from rasa->-r requirements.txt (line 4)) (0.22.2.post1)\n",
      "Requirement already satisfied: redis<4.0,>=3.4 in ./.local/lib/python3.6/site-packages (from rasa->-r requirements.txt (line 4)) (3.5.3)\n",
      "Requirement already satisfied: scipy<2.0.0,>=1.4.1 in /usr/local/lib/python3.6/dist-packages (from rasa->-r requirements.txt (line 4)) (1.4.1)\n",
      "Requirement already satisfied: sanic-cors<0.11.0,>=0.10.0b1 in ./.local/lib/python3.6/site-packages (from rasa->-r requirements.txt (line 4)) (0.10.0.post3)\n",
      "Requirement already satisfied: tqdm<4.46,>=4.31 in ./.local/lib/python3.6/site-packages (from rasa->-r requirements.txt (line 4)) (4.45.0)\n",
      "Requirement already satisfied: pymongo[srv,tls]<3.9.0,>=3.8.0 in ./.local/lib/python3.6/site-packages (from rasa->-r requirements.txt (line 4)) (3.8.0)\n",
      "Requirement already satisfied: async_generator<1.11,>=1.10 in ./.local/lib/python3.6/site-packages (from rasa->-r requirements.txt (line 4)) (1.10)\n",
      "Requirement already satisfied: gevent<1.6,>=1.4 in ./.local/lib/python3.6/site-packages (from rasa->-r requirements.txt (line 4)) (1.5.0)\n",
      "Requirement already satisfied: sanic<20.0.0,>=19.12.2 in ./.local/lib/python3.6/site-packages (from rasa->-r requirements.txt (line 4)) (19.12.2)\n",
      "Requirement already satisfied: colorclass<2.3,>=2.2 in ./.local/lib/python3.6/site-packages (from rasa->-r requirements.txt (line 4)) (2.2.0)\n",
      "Requirement already satisfied: absl-py<0.10,>=0.9 in /usr/local/lib/python3.6/dist-packages (from rasa->-r requirements.txt (line 4)) (0.9.0)\n",
      "Requirement already satisfied: sanic-jwt<1.5.0,>=1.3.2 in ./.local/lib/python3.6/site-packages (from rasa->-r requirements.txt (line 4)) (1.4.1)\n",
      "Requirement already satisfied: jsonpickle<1.5,>=1.3 in ./.local/lib/python3.6/site-packages (from rasa->-r requirements.txt (line 4)) (1.4.1)\n",
      "Requirement already satisfied: terminaltables<3.2.0,>=3.1.0 in ./.local/lib/python3.6/site-packages (from rasa->-r requirements.txt (line 4)) (3.1.0)\n",
      "Requirement already satisfied: tensorflow_hub<0.9,>=0.7 in ./.local/lib/python3.6/site-packages (from rasa->-r requirements.txt (line 4)) (0.8.0)\n",
      "Requirement already satisfied: prompt-toolkit<3.0,>=2.0 in /usr/local/lib/python3.6/dist-packages (from rasa->-r requirements.txt (line 4)) (2.0.10)\n",
      "Requirement already satisfied: pydot<1.5,>=1.4 in ./.local/lib/python3.6/site-packages (from rasa->-r requirements.txt (line 4)) (1.4.1)\n",
      "Requirement already satisfied: python-engineio<3.13,>=3.11 in ./.local/lib/python3.6/site-packages (from rasa->-r requirements.txt (line 4)) (3.12.1)\n",
      "Requirement already satisfied: rocketchat_API<1.4.0,>=0.6.31 in ./.local/lib/python3.6/site-packages (from rasa->-r requirements.txt (line 4)) (0.6.36)\n",
      "Requirement already satisfied: twilio<6.27,>=6.26 in ./.local/lib/python3.6/site-packages (from rasa->-r requirements.txt (line 4)) (6.26.3)\n",
      "Requirement already satisfied: packaging<21.0,>=20.0 in ./.local/lib/python3.6/site-packages (from rasa->-r requirements.txt (line 4)) (20.4)\n",
      "Requirement already satisfied: webexteamssdk<1.4.0,>=1.1.1 in ./.local/lib/python3.6/site-packages (from rasa->-r requirements.txt (line 4)) (1.3)\n",
      "Requirement already satisfied: tensorflow-probability<0.10,>=0.7 in ./.local/lib/python3.6/site-packages (from rasa->-r requirements.txt (line 4)) (0.9.0)\n",
      "Requirement already satisfied: pika<1.2.0,>=1.1.0 in ./.local/lib/python3.6/site-packages (from rasa->-r requirements.txt (line 4)) (1.1.0)\n",
      "Requirement already satisfied: coloredlogs<11.0,>=10.0 in ./.local/lib/python3.6/site-packages (from rasa->-r requirements.txt (line 4)) (10.0)\n",
      "Requirement already satisfied: tensorflow<2.2,>=2.1 in ./.local/lib/python3.6/site-packages (from rasa->-r requirements.txt (line 4)) (2.1.1)\n",
      "Requirement already satisfied: requests<3.0,>=2.23 in ./.local/lib/python3.6/site-packages (from rasa->-r requirements.txt (line 4)) (2.23.0)\n",
      "Requirement already satisfied: multidict<5.0,>=4.6 in ./.local/lib/python3.6/site-packages (from rasa->-r requirements.txt (line 4)) (4.7.6)\n",
      "Requirement already satisfied: matplotlib<3.3,>=3.1 in ./.local/lib/python3.6/site-packages (from rasa->-r requirements.txt (line 4)) (3.2.1)\n",
      "Requirement already satisfied: psycopg2-binary<2.9.0,>=2.8.2 in ./.local/lib/python3.6/site-packages (from rasa->-r requirements.txt (line 4)) (2.8.5)\n",
      "Requirement already satisfied: python-telegram-bot<13.0,>=11.1 in ./.local/lib/python3.6/site-packages (from rasa->-r requirements.txt (line 4)) (11.1.0)\n",
      "Requirement already satisfied: questionary<1.6.0,>=1.5.1 in ./.local/lib/python3.6/site-packages (from rasa->-r requirements.txt (line 4)) (1.5.2)\n",
      "Requirement already satisfied: pykwalify<1.8.0,>=1.7.0 in ./.local/lib/python3.6/site-packages (from rasa->-r requirements.txt (line 4)) (1.7.0)\n",
      "Requirement already satisfied: apscheduler<3.7,>=3.6 in ./.local/lib/python3.6/site-packages (from rasa->-r requirements.txt (line 4)) (3.6.3)\n",
      "Requirement already satisfied: networkx<2.5.0,>=2.4.0 in ./.local/lib/python3.6/site-packages (from rasa->-r requirements.txt (line 4)) (2.4)\n",
      "Requirement already satisfied: setuptools>=41.0.0 in /usr/local/lib/python3.6/dist-packages (from rasa->-r requirements.txt (line 4)) (45.1.0)\n",
      "Requirement already satisfied: kafka-python<2.0,>=1.4 in ./.local/lib/python3.6/site-packages (from rasa->-r requirements.txt (line 4)) (1.4.7)\n",
      "Requirement already satisfied: beautifulsoup4 in ./.local/lib/python3.6/site-packages (from bs4->-r requirements.txt (line 7)) (4.9.1)\n",
      "Requirement already satisfied: requests-oauthlib in /usr/local/lib/python3.6/dist-packages (from kubernetes<12.0.0,>=8.0.0->kfp->-r requirements.txt (line 1)) (1.3.0)\n",
      "Requirement already satisfied: six>=1.9.0 in ./.local/lib/python3.6/site-packages (from kubernetes<12.0.0,>=8.0.0->kfp->-r requirements.txt (line 1)) (1.12.0)\n",
      "Requirement already satisfied: websocket-client!=0.40.0,!=0.41.*,!=0.42.*,>=0.32.0 in ./.local/lib/python3.6/site-packages (from kubernetes<12.0.0,>=8.0.0->kfp->-r requirements.txt (line 1)) (0.54.0)\n",
      "Requirement already satisfied: google-resumable-media<0.6dev,>=0.5.0 in /usr/local/lib/python3.6/dist-packages (from google-cloud-storage>=1.13.0->kfp->-r requirements.txt (line 1)) (0.5.0)\n",
      "Requirement already satisfied: google-cloud-core<2.0dev,>=1.2.0 in /usr/local/lib/python3.6/dist-packages (from google-cloud-storage>=1.13.0->kfp->-r requirements.txt (line 1)) (1.3.0)\n",
      "Requirement already satisfied: wheel in /usr/lib/python3/dist-packages (from strip-hints->kfp->-r requirements.txt (line 1)) (0.30.0)\n",
      "Requirement already satisfied: wrapt<2,>=1.10 in /usr/local/lib/python3.6/dist-packages (from Deprecated->kfp->-r requirements.txt (line 1)) (1.11.2)\n",
      "Requirement already satisfied: pyrsistent>=0.14.0 in /usr/local/lib/python3.6/dist-packages (from jsonschema>=3.0.1->kfp->-r requirements.txt (line 1)) (0.15.7)\n",
      "Requirement already satisfied: importlib-metadata; python_version < \"3.8\" in /usr/local/lib/python3.6/dist-packages (from jsonschema>=3.0.1->kfp->-r requirements.txt (line 1)) (1.4.0)\n",
      "Requirement already satisfied: rsa<4.1,>=3.1.4 in /usr/local/lib/python3.6/dist-packages (from google-auth>=1.6.1->kfp->-r requirements.txt (line 1)) (4.0)\n",
      "Requirement already satisfied: pyasn1-modules>=0.2.1 in /usr/local/lib/python3.6/dist-packages (from google-auth>=1.6.1->kfp->-r requirements.txt (line 1)) (0.2.8)\n",
      "Requirement already satisfied: cachetools<5.0,>=2.0.0 in ./.local/lib/python3.6/site-packages (from google-auth>=1.6.1->kfp->-r requirements.txt (line 1)) (3.1.1)\n",
      "Requirement already satisfied: docutils<0.16,>=0.10 in ./.local/lib/python3.6/site-packages (from botocore<1.17.0,>=1.16.19->boto3->-r requirements.txt (line 3)) (0.15.2)\n",
      "Requirement already satisfied: idna-ssl>=1.0; python_version < \"3.7\" in ./.local/lib/python3.6/site-packages (from aiohttp<3.7,>=3.6->rasa->-r requirements.txt (line 4)) (1.1.0)\n",
      "Requirement already satisfied: async-timeout<4.0,>=3.0 in ./.local/lib/python3.6/site-packages (from aiohttp<3.7,>=3.6->rasa->-r requirements.txt (line 4)) (3.0.1)\n",
      "Requirement already satisfied: yarl<2.0,>=1.0 in ./.local/lib/python3.6/site-packages (from aiohttp<3.7,>=3.6->rasa->-r requirements.txt (line 4)) (1.4.2)\n",
      "Requirement already satisfied: chardet<4.0,>=2.0 in /usr/local/lib/python3.6/dist-packages (from aiohttp<3.7,>=3.6->rasa->-r requirements.txt (line 4)) (3.0.4)\n",
      "Requirement already satisfied: typing-extensions>=3.6.5; python_version < \"3.7\" in ./.local/lib/python3.6/site-packages (from aiohttp<3.7,>=3.6->rasa->-r requirements.txt (line 4)) (3.7.4.2)\n",
      "Requirement already satisfied: ruamel.yaml.clib>=0.1.2; platform_python_implementation == \"CPython\" and python_version < \"3.9\" in ./.local/lib/python3.6/site-packages (from ruamel.yaml<0.17,>=0.16->rasa->-r requirements.txt (line 4)) (0.2.0)\n",
      "Requirement already satisfied: python-crfsuite>=0.8.3 in ./.local/lib/python3.6/site-packages (from sklearn-crfsuite<0.4,>=0.3->rasa->-r requirements.txt (line 4)) (0.9.7)\n",
      "Requirement already satisfied: pyasn1>=0.1.7 in /usr/local/lib/python3.6/dist-packages (from oauth2client==4.1.3->rasa->-r requirements.txt (line 4)) (0.4.8)\n",
      "Requirement already satisfied: httplib2>=0.9.1 in /usr/local/lib/python3.6/dist-packages (from oauth2client==4.1.3->rasa->-r requirements.txt (line 4)) (0.17.0)\n",
      "Requirement already satisfied: joblib>=0.11 in ./.local/lib/python3.6/site-packages (from scikit-learn<0.23,>=0.22->rasa->-r requirements.txt (line 4)) (0.15.1)\n",
      "Requirement already satisfied: sanic-plugins-framework>=0.9.0 in ./.local/lib/python3.6/site-packages (from sanic-cors<0.11.0,>=0.10.0b1->rasa->-r requirements.txt (line 4)) (0.9.2)\n",
      "Requirement already satisfied: dnspython<2.0.0,>=1.13.0; extra == \"srv\" in ./.local/lib/python3.6/site-packages (from pymongo[srv,tls]<3.9.0,>=3.8.0->rasa->-r requirements.txt (line 4)) (1.16.0)\n",
      "Requirement already satisfied: greenlet>=0.4.14; platform_python_implementation == \"CPython\" in ./.local/lib/python3.6/site-packages (from gevent<1.6,>=1.4->rasa->-r requirements.txt (line 4)) (0.4.15)\n",
      "Requirement already satisfied: websockets<9.0,>=7.0 in ./.local/lib/python3.6/site-packages (from sanic<20.0.0,>=19.12.2->rasa->-r requirements.txt (line 4)) (8.1)\n",
      "Requirement already satisfied: aiofiles>=0.3.0 in ./.local/lib/python3.6/site-packages (from sanic<20.0.0,>=19.12.2->rasa->-r requirements.txt (line 4)) (0.5.0)\n",
      "Requirement already satisfied: uvloop>=0.5.3; sys_platform != \"win32\" and implementation_name == \"cpython\" in ./.local/lib/python3.6/site-packages (from sanic<20.0.0,>=19.12.2->rasa->-r requirements.txt (line 4)) (0.14.0)\n",
      "Requirement already satisfied: httpx==0.9.3 in ./.local/lib/python3.6/site-packages (from sanic<20.0.0,>=19.12.2->rasa->-r requirements.txt (line 4)) (0.9.3)\n",
      "Requirement already satisfied: httptools>=0.0.10 in ./.local/lib/python3.6/site-packages (from sanic<20.0.0,>=19.12.2->rasa->-r requirements.txt (line 4)) (0.1.1)\n",
      "Requirement already satisfied: protobuf>=3.8.0 in /usr/local/lib/python3.6/dist-packages (from tensorflow_hub<0.9,>=0.7->rasa->-r requirements.txt (line 4)) (3.11.2)\n",
      "Requirement already satisfied: wcwidth in /usr/local/lib/python3.6/dist-packages (from prompt-toolkit<3.0,>=2.0->rasa->-r requirements.txt (line 4)) (0.1.8)\n",
      "Requirement already satisfied: pyparsing>=2.1.4 in /usr/local/lib/python3.6/dist-packages (from pydot<1.5,>=1.4->rasa->-r requirements.txt (line 4)) (2.4.6)\n",
      "Requirement already satisfied: pysocks; python_version >= \"3.0\" in ./.local/lib/python3.6/site-packages (from twilio<6.27,>=6.26->rasa->-r requirements.txt (line 4)) (1.7.1)\n",
      "Requirement already satisfied: future in /usr/local/lib/python3.6/dist-packages (from webexteamssdk<1.4.0,>=1.1.1->rasa->-r requirements.txt (line 4)) (0.18.2)\n",
      "Requirement already satisfied: decorator in /usr/local/lib/python3.6/dist-packages (from tensorflow-probability<0.10,>=0.7->rasa->-r requirements.txt (line 4)) (4.4.1)\n",
      "Requirement already satisfied: gast>=0.2 in ./.local/lib/python3.6/site-packages (from tensorflow-probability<0.10,>=0.7->rasa->-r requirements.txt (line 4)) (0.2.2)\n",
      "Requirement already satisfied: humanfriendly>=4.7 in ./.local/lib/python3.6/site-packages (from coloredlogs<11.0,>=10.0->rasa->-r requirements.txt (line 4)) (8.2)\n",
      "Requirement already satisfied: keras-applications>=1.0.8 in /usr/local/lib/python3.6/dist-packages (from tensorflow<2.2,>=2.1->rasa->-r requirements.txt (line 4)) (1.0.8)\n",
      "Requirement already satisfied: termcolor>=1.1.0 in /usr/local/lib/python3.6/dist-packages (from tensorflow<2.2,>=2.1->rasa->-r requirements.txt (line 4)) (1.1.0)\n",
      "Requirement already satisfied: google-pasta>=0.1.6 in /usr/local/lib/python3.6/dist-packages (from tensorflow<2.2,>=2.1->rasa->-r requirements.txt (line 4)) (0.1.8)\n",
      "Requirement already satisfied: keras-preprocessing==1.1.0 in /usr/local/lib/python3.6/dist-packages (from tensorflow<2.2,>=2.1->rasa->-r requirements.txt (line 4)) (1.1.0)\n",
      "Requirement already satisfied: tensorboard<2.2.0,>=2.1.0 in ./.local/lib/python3.6/site-packages (from tensorflow<2.2,>=2.1->rasa->-r requirements.txt (line 4)) (2.1.1)\n",
      "Requirement already satisfied: opt-einsum>=2.3.2 in /usr/local/lib/python3.6/dist-packages (from tensorflow<2.2,>=2.1->rasa->-r requirements.txt (line 4)) (3.1.0)\n",
      "Requirement already satisfied: astor>=0.6.0 in /usr/local/lib/python3.6/dist-packages (from tensorflow<2.2,>=2.1->rasa->-r requirements.txt (line 4)) (0.8.1)\n",
      "Requirement already satisfied: grpcio>=1.8.6 in /usr/local/lib/python3.6/dist-packages (from tensorflow<2.2,>=2.1->rasa->-r requirements.txt (line 4)) (1.26.0)\n",
      "Requirement already satisfied: idna<3,>=2.5 in /usr/lib/python3/dist-packages (from requests<3.0,>=2.23->rasa->-r requirements.txt (line 4)) (2.6)\n",
      "Requirement already satisfied: kiwisolver>=1.0.1 in /usr/local/lib/python3.6/dist-packages (from matplotlib<3.3,>=3.1->rasa->-r requirements.txt (line 4)) (1.1.0)\n",
      "Requirement already satisfied: cycler>=0.10 in /usr/local/lib/python3.6/dist-packages (from matplotlib<3.3,>=3.1->rasa->-r requirements.txt (line 4)) (0.10.0)\n",
      "Requirement already satisfied: cryptography in /usr/lib/python3/dist-packages (from python-telegram-bot<13.0,>=11.1->rasa->-r requirements.txt (line 4)) (2.1.4)\n",
      "Requirement already satisfied: docopt>=0.6.2 in ./.local/lib/python3.6/site-packages (from pykwalify<1.8.0,>=1.7.0->rasa->-r requirements.txt (line 4)) (0.6.2)\n",
      "Requirement already satisfied: tzlocal>=1.2 in ./.local/lib/python3.6/site-packages (from apscheduler<3.7,>=3.6->rasa->-r requirements.txt (line 4)) (2.1)\n",
      "Requirement already satisfied: soupsieve>1.2 in ./.local/lib/python3.6/site-packages (from beautifulsoup4->bs4->-r requirements.txt (line 7)) (2.0.1)\n",
      "Requirement already satisfied: oauthlib>=3.0.0 in /usr/local/lib/python3.6/dist-packages (from requests-oauthlib->kubernetes<12.0.0,>=8.0.0->kfp->-r requirements.txt (line 1)) (3.1.0)\n",
      "Requirement already satisfied: google-api-core<2.0.0dev,>=1.16.0 in /usr/local/lib/python3.6/dist-packages (from google-cloud-core<2.0dev,>=1.2.0->google-cloud-storage>=1.13.0->kfp->-r requirements.txt (line 1)) (1.16.0)\n",
      "Requirement already satisfied: zipp>=0.5 in /usr/local/lib/python3.6/dist-packages (from importlib-metadata; python_version < \"3.8\"->jsonschema>=3.0.1->kfp->-r requirements.txt (line 1)) (2.1.0)\n",
      "Requirement already satisfied: sniffio==1.* in ./.local/lib/python3.6/site-packages (from httpx==0.9.3->sanic<20.0.0,>=19.12.2->rasa->-r requirements.txt (line 4)) (1.1.0)\n",
      "Requirement already satisfied: h2==3.* in ./.local/lib/python3.6/site-packages (from httpx==0.9.3->sanic<20.0.0,>=19.12.2->rasa->-r requirements.txt (line 4)) (3.2.0)\n",
      "Requirement already satisfied: hstspreload in ./.local/lib/python3.6/site-packages (from httpx==0.9.3->sanic<20.0.0,>=19.12.2->rasa->-r requirements.txt (line 4)) (2020.5.27)\n",
      "Requirement already satisfied: rfc3986<2,>=1.3 in ./.local/lib/python3.6/site-packages (from httpx==0.9.3->sanic<20.0.0,>=19.12.2->rasa->-r requirements.txt (line 4)) (1.4.0)\n",
      "Requirement already satisfied: h11==0.8.* in ./.local/lib/python3.6/site-packages (from httpx==0.9.3->sanic<20.0.0,>=19.12.2->rasa->-r requirements.txt (line 4)) (0.8.1)\n",
      "Requirement already satisfied: h5py in /usr/local/lib/python3.6/dist-packages (from keras-applications>=1.0.8->tensorflow<2.2,>=2.1->rasa->-r requirements.txt (line 4)) (2.10.0)\n",
      "Requirement already satisfied: markdown>=2.6.8 in /usr/local/lib/python3.6/dist-packages (from tensorboard<2.2.0,>=2.1.0->tensorflow<2.2,>=2.1->rasa->-r requirements.txt (line 4)) (3.1.1)\n",
      "Requirement already satisfied: google-auth-oauthlib<0.5,>=0.4.1 in ./.local/lib/python3.6/site-packages (from tensorboard<2.2.0,>=2.1.0->tensorflow<2.2,>=2.1->rasa->-r requirements.txt (line 4)) (0.4.1)\n",
      "Requirement already satisfied: werkzeug>=0.11.15 in /usr/local/lib/python3.6/dist-packages (from tensorboard<2.2.0,>=2.1.0->tensorflow<2.2,>=2.1->rasa->-r requirements.txt (line 4)) (0.16.1)\n",
      "Requirement already satisfied: googleapis-common-protos<2.0dev,>=1.6.0 in /usr/local/lib/python3.6/dist-packages (from google-api-core<2.0.0dev,>=1.16.0->google-cloud-core<2.0dev,>=1.2.0->google-cloud-storage>=1.13.0->kfp->-r requirements.txt (line 1)) (1.51.0)\n",
      "Requirement already satisfied: contextvars>=2.1; python_version < \"3.7\" in ./.local/lib/python3.6/site-packages (from sniffio==1.*->httpx==0.9.3->sanic<20.0.0,>=19.12.2->rasa->-r requirements.txt (line 4)) (2.4)\n",
      "Requirement already satisfied: hyperframe<6,>=5.2.0 in ./.local/lib/python3.6/site-packages (from h2==3.*->httpx==0.9.3->sanic<20.0.0,>=19.12.2->rasa->-r requirements.txt (line 4)) (5.2.0)\n",
      "Requirement already satisfied: hpack<4,>=3.0 in ./.local/lib/python3.6/site-packages (from h2==3.*->httpx==0.9.3->sanic<20.0.0,>=19.12.2->rasa->-r requirements.txt (line 4)) (3.0.0)\n",
      "Requirement already satisfied: immutables>=0.9 in ./.local/lib/python3.6/site-packages (from contextvars>=2.1; python_version < \"3.7\"->sniffio==1.*->httpx==0.9.3->sanic<20.0.0,>=19.12.2->rasa->-r requirements.txt (line 4)) (0.14)\n",
      "\u001b[33mWARNING: You are using pip version 20.0.2; however, version 20.1.1 is available.\n",
      "You should consider upgrading via the '/usr/bin/python3 -m pip install --upgrade pip' command.\u001b[0m\n"
     ]
    }
   ],
   "source": [
    "!pip install -r requirements.txt --user"
   ]
  },
  {
   "cell_type": "markdown",
   "metadata": {},
   "source": [
    "## Restart Notebook Kernel"
   ]
  },
  {
   "cell_type": "code",
   "execution_count": null,
   "metadata": {},
   "outputs": [
    {
     "data": {
      "text/html": [
       "<script>Jupyter.notebook.kernel.restart()</script>"
      ]
     },
     "metadata": {},
     "output_type": "display_data"
    }
   ],
   "source": [
    "from IPython.display import display_html\n",
    "display_html(\"<script>Jupyter.notebook.kernel.restart()</script>\",raw=True)"
   ]
  },
  {
   "cell_type": "markdown",
   "metadata": {},
   "source": [
    "## Import libraries"
   ]
  },
  {
   "cell_type": "code",
   "execution_count": 1,
   "metadata": {},
   "outputs": [],
   "source": [
    "import kfp\n",
    "import os\n",
    "import boto3\n",
    "from kubernetes import client, config\n",
    "from datetime import datetime\n",
    "\n",
    "import asyncio\n",
    "import nest_asyncio\n",
    "from minio import Minio\n",
    "from rasa.jupyter import chat\n",
    "from typing import Dict, Text\n",
    "from rasa.run import create_agent\n",
    "from botocore.client import Config\n",
    "from rasa.core.lock_store import LockStore\n",
    "from botocore.exceptions import ClientError\n",
    "from rasa.core.tracker_store import TrackerStore\n",
    "from rasa.core.utils import AvailableEndpoints\n",
    "from rasa.core.agent import Agent\n",
    "from rasa.core.brokers.broker import EventBroker\n",
    "from rasa.cli.utils import print_success, print_error\n",
    "\n",
    "nest_asyncio.apply()\n",
    "\n",
    "\n",
    "config.load_incluster_config()\n",
    "api_client = client.CoreV1Api()"
   ]
  },
  {
   "cell_type": "markdown",
   "metadata": {},
   "source": [
    "## Component files Declarations"
   ]
  },
  {
   "cell_type": "code",
   "execution_count": 2,
   "metadata": {},
   "outputs": [],
   "source": [
    "path='cisco-kubeflow-starter-pack/apps/healthcare/covid-forecasting/onprem/pipelines/'\n",
    "component_root_train = path+'components/rasa-train/'\n",
    "component_root_evaluate = path+'components/rasa-evaluate/'\n",
    "component_root_upload = path+'components/rasa-upload/'"
   ]
  },
  {
   "cell_type": "markdown",
   "metadata": {},
   "source": [
    "## Load components from respective .YAML config files"
   ]
  },
  {
   "cell_type": "code",
   "execution_count": 3,
   "metadata": {},
   "outputs": [],
   "source": [
    "rasa_train_op = kfp.components.load_component_from_file(os.path.join(component_root_train, 'component.yaml'))\n",
    "rasa_evaluate_op = kfp.components.load_component_from_file(os.path.join(component_root_evaluate, 'component.yaml'))\n",
    "rasa_upload_op = kfp.components.load_component_from_file(os.path.join(component_root_upload, 'component.yaml'))"
   ]
  },
  {
   "cell_type": "markdown",
   "metadata": {},
   "source": [
    "## Define Volume and Volume Mounts"
   ]
  },
  {
   "cell_type": "code",
   "execution_count": 4,
   "metadata": {},
   "outputs": [],
   "source": [
    "nfs_pvc = client.V1PersistentVolumeClaimVolumeSource(claim_name='nfs')\n",
    "nfs_volume = client.V1Volume(name='nfs', persistent_volume_claim=nfs_pvc)\n",
    "nfs_volume_mount = client.V1VolumeMount(mount_path='/mnt/', name='nfs')"
   ]
  },
  {
   "cell_type": "markdown",
   "metadata": {},
   "source": [
    "## Define pipeline function"
   ]
  },
  {
   "cell_type": "code",
   "execution_count": 5,
   "metadata": {},
   "outputs": [],
   "source": [
    "def faq_pipeline(\n",
    "    base=\"/ml\",\n",
    "    models_dir=\"models\",\n",
    "    domain_yml=\"domain.yml\",\n",
    "    config_yml=\"config.yml\",\n",
    "    nlu_core_md=\"data\",\n",
    "    model_name=\"rasa_model\",\n",
    "    eval_stories_md = \"tests/conversation_tests.md\",\n",
    "    results_dir=\"results\",\n",
    "    output_dir=\"/mnt\",\n",
    "    minio_bucket='rasa'\n",
    "    ):\n",
    "    \n",
    "    models_path = str(output_dir) + \"/\" + str(models_dir)\n",
    "    resutls_path = str(models_path) + \"/\" + str(results_dir)\n",
    "    \n",
    "    train = rasa_train_op(out_path=models_path)\n",
    "    train.add_volume(nfs_volume)\n",
    "    train.add_volume_mount(nfs_volume_mount)\n",
    "    \n",
    "    eval = rasa_evaluate_op(out_path=resutls_path)\n",
    "    eval.add_volume(nfs_volume)\n",
    "    eval.add_volume_mount(nfs_volume_mount)\n",
    "    eval.after(train)\n",
    "    \n",
    "    upload = rasa_upload_op(minio_bucket=minio_bucket)\n",
    "    upload.add_volume(nfs_volume)\n",
    "    upload.add_volume_mount(nfs_volume_mount)\n",
    "    upload.after(eval)"
   ]
  },
  {
   "cell_type": "code",
   "execution_count": 6,
   "metadata": {},
   "outputs": [],
   "source": [
    "try:\n",
    "    import kfp.compiler as compiler\n",
    "    compiler.Compiler().compile(faq_pipeline, 'faq_pipeline.tar.gz')\n",
    "except RuntimeError as err:\n",
    "    logging.debug(err)\n",
    "    logging.info(\"Argo workflow failed validation check but it can still be used to run experiments.\")"
   ]
  },
  {
   "cell_type": "markdown",
   "metadata": {},
   "source": [
    "## Create kubeflow pipeline experiment"
   ]
  },
  {
   "cell_type": "code",
   "execution_count": 7,
   "metadata": {},
   "outputs": [
    {
     "data": {
      "text/html": [
       "Experiment link <a href=\"/pipeline/#/experiments/details/7883eb05-6675-41cd-a6cc-5cb7dd26c1ef\" target=\"_blank\" >here</a>"
      ],
      "text/plain": [
       "<IPython.core.display.HTML object>"
      ]
     },
     "metadata": {},
     "output_type": "display_data"
    }
   ],
   "source": [
    "kf_client = kfp.Client()\n",
    "rasa_experiment = kf_client.create_experiment(name='COVID-FAQ')"
   ]
  },
  {
   "cell_type": "markdown",
   "metadata": {},
   "source": [
    "## Create kubeflow pipeline run"
   ]
  },
  {
   "cell_type": "code",
   "execution_count": 9,
   "metadata": {},
   "outputs": [
    {
     "data": {
      "text/html": [
       "Run link <a href=\"/pipeline/#/runs/details/ea02cc3d-3cf9-47df-b0be-77cdad9c7ccd\" target=\"_blank\" >here</a>"
      ],
      "text/plain": [
       "<IPython.core.display.HTML object>"
      ]
     },
     "metadata": {},
     "output_type": "display_data"
    }
   ],
   "source": [
    "timestamp = datetime.now().strftime(\"%d_%m_%y_%H_%M_%S\")\n",
    "minio_bucket='rasa'\n",
    "run = kf_client.run_pipeline(rasa_experiment.id, 'covid-faq-pipeline-'+timestamp, pipeline_package_path='faq_pipeline.tar.gz', params={\"minio_bucket\":minio_bucket})"
   ]
  },
  {
   "cell_type": "markdown",
   "metadata": {},
   "source": [
    "Note: wait for experiment succeeded"
   ]
  },
  {
   "cell_type": "markdown",
   "metadata": {},
   "source": [
    "## Download model from Minio\n",
    "\n",
    "### Get minio-service cluster IP to download rasa model"
   ]
  },
  {
   "cell_type": "code",
   "execution_count": 10,
   "metadata": {},
   "outputs": [
    {
     "name": "stdout",
     "output_type": "stream",
     "text": [
      "minio endopoint :  http://10.39.248.229:9000\n"
     ]
    }
   ],
   "source": [
    "try:\n",
    "    minio_service_endpoint = api_client.read_namespaced_service(name='minio-service', namespace='kubeflow').spec.cluster_ip\n",
    "    minio_service_enpoint_port=api_client.read_namespaced_service(name='minio-service', namespace='kubeflow').spec.ports[0].port\n",
    "except ApiException as e:\n",
    "            if e.status == 403:\n",
    "                logging.warning(f\"The service account doesn't have sufficient privileges \"\n",
    "                      f\"to get the kubeflow minio-service. \"\n",
    "                      f\"You will have to manually enter the minio cluster-ip. \"\n",
    "                      f\"To make this function work ask someone with cluster \"\n",
    "                      f\"priveleges to create an appropriate \"\n",
    "                      f\"clusterrolebinding by running a command.\\n\"\n",
    "                      f\"kubectl create --namespace=kubeflow rolebinding \"\n",
    "                       \"--clusterrole=kubeflow-view \"\n",
    "                       \"--serviceaccount=${NAMESPACE}:default-editor \"\n",
    "                       \"${NAMESPACE}-minio-view\")\n",
    "                logging.error(\"API access denied with reason: {e.reason}\")\n",
    "\n",
    "minio_endpoint = \"http://\"+ minio_service_endpoint  + \":%s\"%minio_service_enpoint_port\n",
    "print(\"minio endopoint : \", minio_endpoint)"
   ]
  },
  {
   "cell_type": "code",
   "execution_count": 13,
   "metadata": {},
   "outputs": [
    {
     "name": "stdout",
     "output_type": "stream",
     "text": [
      "Rasa model downloaded\n"
     ]
    }
   ],
   "source": [
    "boto_client = boto3.client('s3',\n",
    "                      endpoint_url=minio_endpoint,\n",
    "                      aws_access_key_id=\"minio\",\n",
    "                      aws_secret_access_key=\"minio123\",\n",
    "                      config=Config(signature_version='s3v4'),\n",
    "                      region_name=\"us-east-1\",\n",
    "                      use_ssl=False)\n",
    "\n",
    "## Download model from minio bucket\n",
    "filename='models.tar.gz'\n",
    "boto_client.download_file(Bucket=minio_bucket, Key='models.tar.gz', Filename=filename)\n",
    "print(\"Rasa model downloaded\")"
   ]
  },
  {
   "cell_type": "markdown",
   "metadata": {},
   "source": [
    "## untar model"
   ]
  },
  {
   "cell_type": "code",
   "execution_count": 14,
   "metadata": {},
   "outputs": [
    {
     "name": "stdout",
     "output_type": "stream",
     "text": [
      "model/\n",
      "model/rasa_model.tar.gz\n",
      "model/results/\n",
      "model/results/CRFEntityExtractor_errors.json\n",
      "model/results/CRFEntityExtractor_report.json\n",
      "model/results/DIETClassifier_errors.json\n",
      "model/results/DIETClassifier_report.json\n",
      "model/results/confmat.png\n",
      "model/results/failed_stories.md\n",
      "model/results/hist.png\n",
      "model/results/intent_errors.json\n",
      "model/results/intent_report.json\n",
      "model/results/response_selection_confmat.png\n",
      "model/results/response_selection_report.json\n",
      "model/results/story_confmat.pdf\n"
     ]
    }
   ],
   "source": [
    "!tar -xvf $filename"
   ]
  },
  {
   "cell_type": "markdown",
   "metadata": {},
   "source": [
    "## Chat with your assistant"
   ]
  },
  {
   "cell_type": "code",
   "execution_count": 15,
   "metadata": {},
   "outputs": [
    {
     "name": "stderr",
     "output_type": "stream",
     "text": [
      "/home/jovyan/.local/lib/python3.6/site-packages/sklearn/externals/joblib/__init__.py:15: FutureWarning: sklearn.externals.joblib is deprecated in 0.21 and will be removed in 0.23. Please import this functionality directly from joblib, which can be installed with: pip install joblib. If this warning is raised when loading pickled models, you may need to re-serialize those models with scikit-learn 0.21+.\n",
      "  warnings.warn(msg, category=FutureWarning)\n",
      "WARNING:tensorflow:From /home/jovyan/.local/lib/python3.6/site-packages/tensorflow_core/python/ops/array_grad.py:563: _EagerTensorBase.cpu (from tensorflow.python.framework.ops) is deprecated and will be removed in a future version.\n",
      "Instructions for updating:\n",
      "Use tf.identity instead.\n"
     ]
    }
   ],
   "source": [
    "def _display_bot_response(response: Dict):\n",
    "    from IPython.display import Image, display  # pytype: disable=import-error\n",
    "\n",
    "    for response_type, value in response.items():\n",
    "        if response_type == \"text\":\n",
    "            print_success(value)\n",
    "\n",
    "        if response_type == \"image\":\n",
    "            image = Image(url=value)\n",
    "            display(image)\n",
    "            \n",
    "def create_agent(model: Text, endpoints: Text = None) -> \"Agent\":\n",
    "    _endpoints = AvailableEndpoints.read_endpoints(endpoints)\n",
    "    _broker = EventBroker.create(_endpoints.event_broker)\n",
    "    _tracker_store = TrackerStore.create(_endpoints.tracker_store, event_broker=_broker)\n",
    "    _lock_store = LockStore.create(_endpoints.lock_store)\n",
    "\n",
    "    return Agent.load(\n",
    "        model,\n",
    "        generator=_endpoints.nlg,\n",
    "        tracker_store=_tracker_store,\n",
    "        lock_store=_lock_store,\n",
    "        action_endpoint=_endpoints.action,\n",
    "    )\n",
    "agent = create_agent(\"model/rasa_model.tar.gz\", endpoints=\"cisco-kubeflow-starter-pack/apps/healthcare/covid-forecasting/onprem/pipelines/rasa/endpoints.yml\")"
   ]
  },
  {
   "cell_type": "code",
   "execution_count": 16,
   "metadata": {},
   "outputs": [
    {
     "name": "stdout",
     "output_type": "stream",
     "text": [
      "Your bot is ready to talk! Type your messages here or send '/stop'.\n",
      "Hi\n",
      "\u001b[92mHi!\u001b[0m\n",
      "\u001b[92mSelect the source:\n",
      " - WHO(World Health Organization)\n",
      " - MOHFW(Ministry of Health and Family Welfare of India)\n",
      " - US(United Nations)\n",
      " - CDC(Centers for Disease Control and Prevention)\n",
      " - DEFAULT\u001b[0m\n",
      "WHO\n",
      "\u001b[92mYou are selected:  who\u001b[0m\n",
      "What is coronavirus?\n",
      "\u001b[92mCoronaviruses are a large family of viruses which may cause illness in animals or humans.  In humans, several coronaviruses are known to cause respiratory infections ranging from the common cold to more severe diseases such as Middle East Respiratory Syndrome (MERS) and Severe Acute Respiratory Syndrome (SARS). The most recently discovered coronavirus causes coronavirus disease COVID-19.\u001b[0m\n",
      "What is covid?\n",
      "\u001b[92mCOVID-19 is the infectious disease caused by the most recently discovered coronavirus. This new virus and disease were unknown before the outbreak began in Wuhan, China, in December 2019. COVID-19 is now a pandemic affecting many countries globally.\u001b[0m\n",
      "How many peoples are infected in world?\n",
      "\u001b[92mInfected : 7110306\n",
      "Deaths: 406474\n",
      "Recovered: 3469010\n",
      "Active: 3234822\u001b[0m\n",
      "How many confirmed cases in india?\n",
      "\u001b[92mInfected : 258090\n",
      "Deaths: 7207\n",
      "Recovered: 124095\n",
      "Active: 126788\u001b[0m\n",
      "bye\n",
      "\u001b[92myou are welcome :)\u001b[0m\n",
      "/stop\n"
     ]
    }
   ],
   "source": [
    "print(\"Your bot is ready to talk! Type your messages here or send '/stop'.\")\n",
    "loop = asyncio.get_event_loop()\n",
    "while True:\n",
    "    message = input()\n",
    "    if message == \"/stop\":\n",
    "        break\n",
    "    responses = loop.run_until_complete(agent.handle_text(message))\n",
    "    for response in responses:\n",
    "        _display_bot_response(response)"
   ]
  },
  {
   "cell_type": "markdown",
   "metadata": {},
   "source": [
    "## Delete bucket from minio server"
   ]
  },
  {
   "cell_type": "code",
   "execution_count": 17,
   "metadata": {},
   "outputs": [
    {
     "data": {
      "text/plain": [
       "{'ResponseMetadata': {'RequestId': '16168BEDC65EBDA9',\n",
       "  'HostId': '',\n",
       "  'HTTPStatusCode': 204,\n",
       "  'HTTPHeaders': {'accept-ranges': 'bytes',\n",
       "   'server': 'Minio/RELEASE.2018-02-09T22-40-05Z (linux; amd64)',\n",
       "   'vary': 'Origin',\n",
       "   'x-amz-request-id': '16168BEDC65EBDA9',\n",
       "   'date': 'Mon, 08 Jun 2020 10:49:31 GMT'},\n",
       "  'RetryAttempts': 0}}"
      ]
     },
     "execution_count": 17,
     "metadata": {},
     "output_type": "execute_result"
    }
   ],
   "source": [
    "boto_client.delete_object(Bucket=minio_bucket, Key=filename)"
   ]
  },
  {
   "cell_type": "code",
   "execution_count": 18,
   "metadata": {},
   "outputs": [
    {
     "data": {
      "text/plain": [
       "{'ResponseMetadata': {'RequestId': '16168BEE2512DF2D',\n",
       "  'HostId': '',\n",
       "  'HTTPStatusCode': 204,\n",
       "  'HTTPHeaders': {'accept-ranges': 'bytes',\n",
       "   'server': 'Minio/RELEASE.2018-02-09T22-40-05Z (linux; amd64)',\n",
       "   'vary': 'Origin',\n",
       "   'x-amz-request-id': '16168BEE2512DF2D',\n",
       "   'date': 'Mon, 08 Jun 2020 10:49:33 GMT'},\n",
       "  'RetryAttempts': 0}}"
      ]
     },
     "execution_count": 18,
     "metadata": {},
     "output_type": "execute_result"
    }
   ],
   "source": [
    "boto_client.delete_bucket(Bucket=minio_bucket)"
   ]
  },
  {
   "cell_type": "code",
   "execution_count": 19,
   "metadata": {},
   "outputs": [],
   "source": [
    "!rm -rf $filename model/ requirements.txt"
   ]
  },
  {
   "cell_type": "code",
   "execution_count": null,
   "metadata": {},
   "outputs": [],
   "source": []
  }
 ],
 "metadata": {
  "kernelspec": {
   "display_name": "Python 3",
   "language": "python",
   "name": "python3"
  },
  "language_info": {
   "codemirror_mode": {
    "name": "ipython",
    "version": 3
   },
   "file_extension": ".py",
   "mimetype": "text/x-python",
   "name": "python",
   "nbconvert_exporter": "python",
   "pygments_lexer": "ipython3",
   "version": "3.6.9"
  }
 },
 "nbformat": 4,
 "nbformat_minor": 4
}
