{
 "cells": [
  {
   "cell_type": "markdown",
   "metadata": {},
   "source": [
    "## Network Traffic Pipeline Deployment in UCS"
   ]
  },
  {
   "cell_type": "markdown",
   "metadata": {},
   "source": [
    "### Clone git repo"
   ]
  },
  {
   "cell_type": "code",
   "execution_count": 1,
   "metadata": {},
   "outputs": [
    {
     "name": "stdout",
     "output_type": "stream",
     "text": [
      "Cloning into 'cisco-kubeflow-starter-pack'...\n",
      "remote: Enumerating objects: 134, done.\u001b[K\n",
      "remote: Counting objects: 100% (134/134), done.\u001b[K\n",
      "remote: Compressing objects: 100% (101/101), done.\u001b[K\n",
      "remote: Total 134 (delta 15), reused 125 (delta 14), pack-reused 0\u001b[K\n",
      "Receiving objects: 100% (134/134), 1.69 MiB | 13.94 MiB/s, done.\n",
      "Resolving deltas: 100% (15/15), done.\n"
     ]
    }
   ],
   "source": [
    "! git clone -b master https://github.com/CiscoAI/cisco-kubeflow-starter-pack.git"
   ]
  },
  {
   "cell_type": "markdown",
   "metadata": {},
   "source": [
    "### Import libraries"
   ]
  },
  {
   "cell_type": "code",
   "execution_count": 11,
   "metadata": {},
   "outputs": [],
   "source": [
    "import kfp\n",
    "import os\n",
    "from kubernetes import client\n",
    "import calendar\n",
    "import time"
   ]
  },
  {
   "cell_type": "markdown",
   "metadata": {},
   "source": [
    "### Component files Declarations"
   ]
  },
  {
   "cell_type": "code",
   "execution_count": 12,
   "metadata": {},
   "outputs": [],
   "source": [
    "path='cisco-kubeflow-starter-pack/apps/networking/network-traffic/onprem/pipelines/'\n",
    "component_root_train= path+'components/v2/tf-model-train/'\n",
    "component_root_serve = path+'components/v2/tf-serving-deploy-service/'\n",
    "component_root_webui = path+'components/v2/tf-webui-deploy-service/'\n",
    "component_root_tensorboard= path+'components/v2/tf-tensorboard-deploy-service/'"
   ]
  },
  {
   "cell_type": "markdown",
   "metadata": {},
   "source": [
    "#### Components Description\n",
    "\n",
    "tf_train_model_op &nbsp;&nbsp;&nbsp; - &nbsp; Load dataset from nfs-volume, train Network Traffic model  and save model in nfs-volume. <br> \n",
    "tf_serve_model_op &nbsp; - &nbsp; Load Network Traffic model from nfs-volume and serve the model using tf-serving for later prediction. <br> \n",
    "tf_webui_op &nbsp;&nbsp;&nbsp;&nbsp;&nbsp;&nbsp;&nbsp;&nbsp;&nbsp;&nbsp;&nbsp;&nbsp; - &nbsp; Web application client UI loads Unlabeled data, does preprocessing, send API request to serving and display Predicted Location. <br> \n",
    "tf_tensor_op &nbsp;&nbsp;&nbsp;&nbsp;&nbsp;&nbsp;&nbsp;&nbsp;&nbsp;&nbsp;&nbsp;&nbsp;  - &nbsp; Tensorboard UI which provides the visualization metrics such as loss and accuracy, model graph (ops and layers) and histograms of weights, biases, or other tensors for Network Traffic Model <br> "
   ]
  },
  {
   "cell_type": "markdown",
   "metadata": {},
   "source": [
    "### Load components from respective .YAML config files"
   ]
  },
  {
   "cell_type": "code",
   "execution_count": 13,
   "metadata": {},
   "outputs": [],
   "source": [
    "tf_train_model_op = kfp.components.load_component_from_file(os.path.join(component_root_train, 'component.yaml')) \n",
    "tf_serve_model_op = kfp.components.load_component_from_file(os.path.join(component_root_serve, 'component.yaml'))\n",
    "tf_webui_op = kfp.components.load_component_from_file(os.path.join(component_root_webui, 'component.yaml'))\n",
    "tf_tensor_op = kfp.components.load_component_from_file(os.path.join(component_root_tensorboard, 'component.yaml'))"
   ]
  },
  {
   "cell_type": "markdown",
   "metadata": {},
   "source": [
    "### Define Volume and Volume Mounts"
   ]
  },
  {
   "cell_type": "code",
   "execution_count": 14,
   "metadata": {},
   "outputs": [],
   "source": [
    "nfs_pvc = client.V1PersistentVolumeClaimVolumeSource(claim_name='nfs')\n",
    "nfs_volume = client.V1Volume(name='nfs', persistent_volume_claim=nfs_pvc)\n",
    "nfs_volume_mount = client.V1VolumeMount(mount_path='/mnt/', name='nfs')"
   ]
  },
  {
   "cell_type": "markdown",
   "metadata": {},
   "source": [
    "### Define pipeline function"
   ]
  },
  {
   "cell_type": "code",
   "execution_count": 15,
   "metadata": {},
   "outputs": [
    {
     "name": "stdout",
     "output_type": "stream",
     "text": [
      "1584448738\n"
     ]
    },
    {
     "data": {
      "text/html": [
       "Experiment link <a href=\"/pipeline/#/experiments/details/6495d02e-452f-4afb-99d8-0c8ad1510820\" target=\"_blank\" >here</a>"
      ],
      "text/plain": [
       "<IPython.core.display.HTML object>"
      ]
     },
     "metadata": {},
     "output_type": "display_data"
    },
    {
     "data": {
      "text/html": [
       "Run link <a href=\"/pipeline/#/runs/details/d82a74dc-82c8-433a-9151-cd0ad4d38b79\" target=\"_blank\" >here</a>"
      ],
      "text/plain": [
       "<IPython.core.display.HTML object>"
      ]
     },
     "metadata": {},
     "output_type": "display_data"
    },
    {
     "data": {
      "text/plain": [
       "RunPipelineResult(run_id=d82a74dc-82c8-433a-9151-cd0ad4d38b79)"
      ]
     },
     "execution_count": 15,
     "metadata": {},
     "output_type": "execute_result"
    }
   ],
   "source": [
    "# Creating timestamp\n",
    "timestamp = str(calendar.timegm(time.gmtime()))\n",
    "print(timestamp)\n",
    "def network_pipeline():\n",
    "        \n",
    "#     Defining Task for Model training\n",
    "    tf_train_model_task = tf_train_model_op()\n",
    "    tf_train_model_task.add_volume(nfs_volume)\n",
    "    tf_train_model_task.add_volume_mount(nfs_volume_mount)\n",
    "    \n",
    "    #Defining Task to perform serving    \n",
    "    tf_serve_model_task = tf_serve_model_op(timestamp=timestamp)\n",
    "    tf_serve_model_task.add_volume(nfs_volume)\n",
    "    tf_serve_model_task.add_volume_mount(nfs_volume_mount)\n",
    "    tf_serve_model_task.after(tf_train_model_task)\n",
    "\n",
    "#     Defining task for tensorboard creation    \n",
    "    tf_tensorboard_task = tf_tensor_op(timestamp=timestamp)\n",
    "    tf_tensorboard_task.add_volume(nfs_volume)\n",
    "    tf_tensorboard_task.add_volume_mount(nfs_volume_mount)\n",
    "    tf_tensorboard_task.after(tf_train_model_task)\n",
    "    \n",
    "    \n",
    "    #Defining task for webUI creation\n",
    "    tf_webui_task = tf_webui_op(image_path=\"docker.io/edward1723/kf-network-webui-app:0.1\",\n",
    "                                timestamp=timestamp)\n",
    "    tf_webui_task.add_volume(nfs_volume)\n",
    "    tf_webui_task.add_volume_mount(nfs_volume_mount)\n",
    "    tf_webui_task.after(tf_serve_model_task)\n",
    "    \n",
    "#Creating a pipeline run\n",
    "kfp.Client().create_run_from_pipeline_func(network_pipeline, arguments={})"
   ]
  },
  {
   "cell_type": "markdown",
   "metadata": {},
   "source": [
    "### Before accessing service URLs below, make sure that Pipeline Run is Complete in the Dashboard"
   ]
  },
  {
   "cell_type": "markdown",
   "metadata": {},
   "source": [
    "### Get Tensorboard URL"
   ]
  },
  {
   "cell_type": "code",
   "execution_count": 17,
   "metadata": {},
   "outputs": [
    {
     "name": "stdout",
     "output_type": "stream",
     "text": [
      "Tensorboard service is available at - http://INGRESS_IP:30042\n"
     ]
    }
   ],
   "source": [
    "TB_SERVICE_NAME = \"tensorboard-\"+str(timestamp)+\"-network-service\"\n",
    "port = !(kubectl get svc {TB_SERVICE_NAME} -n kubeflow -o yaml | grep -i nodePort: | cut -d\":\" -f 2)\n",
    "print('Tensorboard service is available at - http://INGRESS_IP:{}'.format(port[0].lstrip()))"
   ]
  },
  {
   "cell_type": "markdown",
   "metadata": {},
   "source": [
    "### Get WebUI URL \n",
    "And upload csv from https://cse-cic-ids2018.s3.ca-central-1.amazonaws.com/Processed+Traffic+Data+for+ML+Algorithms/Friday-02-03-2018_TrafficForML_CICFlowMeter.csv"
   ]
  },
  {
   "cell_type": "code",
   "execution_count": 18,
   "metadata": {},
   "outputs": [
    {
     "name": "stdout",
     "output_type": "stream",
     "text": [
      "WebUI service is available at - http://INGRESS_IP:31436\n"
     ]
    }
   ],
   "source": [
    "WEBUI_SERVICE_NAME = \"webui-\"+str(timestamp)+\"-network-service\"\n",
    "port = !(kubectl get svc {WEBUI_SERVICE_NAME} -n kubeflow -o yaml | grep -i nodePort: | cut -d\":\" -f 2)\n",
    "print('WebUI service is available at - http://INGRESS_IP:{}'.format(port[0].lstrip()))"
   ]
  },
  {
   "cell_type": "code",
   "execution_count": null,
   "metadata": {},
   "outputs": [],
   "source": []
  }
 ],
 "metadata": {
  "kernelspec": {
   "display_name": "Python 3",
   "language": "python",
   "name": "python3"
  },
  "language_info": {
   "codemirror_mode": {
    "name": "ipython",
    "version": 3
   },
   "file_extension": ".py",
   "mimetype": "text/x-python",
   "name": "python",
   "nbconvert_exporter": "python",
   "pygments_lexer": "ipython3",
   "version": "3.6.5"
  }
 },
 "nbformat": 4,
 "nbformat_minor": 2
}
