{
 "cells": [
  {
   "cell_type": "markdown",
   "metadata": {},
   "source": [
    "## BLERSSI Pipeline Deployment in UCS"
   ]
  },
  {
   "cell_type": "markdown",
   "metadata": {},
   "source": [
    "### Clone git repo"
   ]
  },
  {
   "cell_type": "code",
   "execution_count": 1,
   "metadata": {},
   "outputs": [
    {
     "name": "stdout",
     "output_type": "stream",
     "text": [
      "Cloning into 'cisco-kubeflow-starter-pack'...\n",
      "remote: Enumerating objects: 151, done.\u001b[K\n",
      "remote: Counting objects: 100% (151/151), done.\u001b[K\n",
      "remote: Compressing objects: 100% (106/106), done.\u001b[K\n",
      "remote: Total 4718 (delta 42), reused 125 (delta 30), pack-reused 4567\u001b[K\n",
      "Receiving objects: 100% (4718/4718), 18.41 MiB | 42.37 MiB/s, done.\n",
      "Resolving deltas: 100% (1771/1771), done.\n"
     ]
    }
   ],
   "source": [
    "BRANCH_NAME=\"master\" #Provide git branch \"master\" or \"dev\"\n",
    "! git clone -b $BRANCH_NAME https://github.com/CiscoAI/cisco-kubeflow-starter-pack.git"
   ]
  },
  {
   "cell_type": "code",
   "execution_count": 2,
   "metadata": {},
   "outputs": [
    {
     "name": "stdout",
     "output_type": "stream",
     "text": [
      "Collecting kfp\n",
      "  Downloading kfp-1.0.0.tar.gz (116 kB)\n",
      "\u001b[K     |████████████████████████████████| 116 kB 17.9 MB/s eta 0:00:01\n",
      "\u001b[?25hRequirement already satisfied: PyYAML in /usr/local/lib/python3.6/dist-packages (from kfp) (5.3)\n",
      "Requirement already satisfied: google-cloud-storage>=1.13.0 in /usr/local/lib/python3.6/dist-packages (from kfp) (1.25.0)\n",
      "Requirement already satisfied: kubernetes<12.0.0,>=8.0.0 in /usr/local/lib/python3.6/dist-packages (from kfp) (10.0.1)\n",
      "Requirement already satisfied: google-auth>=1.6.1 in /usr/local/lib/python3.6/dist-packages (from kfp) (1.11.0)\n",
      "Collecting requests_toolbelt>=0.8.0\n",
      "  Downloading requests_toolbelt-0.9.1-py2.py3-none-any.whl (54 kB)\n",
      "\u001b[K     |████████████████████████████████| 54 kB 6.5 MB/s  eta 0:00:01\n",
      "\u001b[?25hRequirement already satisfied: cloudpickle in /usr/local/lib/python3.6/dist-packages (from kfp) (1.2.2)\n",
      "Collecting kfp-server-api<2.0.0,>=0.2.5\n",
      "  Downloading kfp-server-api-1.0.0.tar.gz (51 kB)\n",
      "\u001b[K     |████████████████████████████████| 51 kB 3.4 MB/s  eta 0:00:01\n",
      "\u001b[?25hRequirement already satisfied: jsonschema>=3.0.1 in /usr/local/lib/python3.6/dist-packages (from kfp) (3.2.0)\n",
      "Collecting tabulate\n",
      "  Downloading tabulate-0.8.7-py3-none-any.whl (24 kB)\n",
      "Requirement already satisfied: click in ./.local/lib/python3.6/site-packages (from kfp) (7.1.2)\n",
      "Collecting Deprecated\n",
      "  Downloading Deprecated-1.2.10-py2.py3-none-any.whl (8.7 kB)\n",
      "Collecting strip-hints\n",
      "  Downloading strip-hints-0.1.9.tar.gz (30 kB)\n",
      "Requirement already satisfied: google-cloud-core<2.0dev,>=1.2.0 in /usr/local/lib/python3.6/dist-packages (from google-cloud-storage>=1.13.0->kfp) (1.3.0)\n",
      "Requirement already satisfied: google-resumable-media<0.6dev,>=0.5.0 in /usr/local/lib/python3.6/dist-packages (from google-cloud-storage>=1.13.0->kfp) (0.5.0)\n",
      "Requirement already satisfied: websocket-client!=0.40.0,!=0.41.*,!=0.42.*,>=0.32.0 in /usr/local/lib/python3.6/dist-packages (from kubernetes<12.0.0,>=8.0.0->kfp) (0.57.0)\n",
      "Requirement already satisfied: certifi>=14.05.14 in /usr/local/lib/python3.6/dist-packages (from kubernetes<12.0.0,>=8.0.0->kfp) (2019.11.28)\n",
      "Requirement already satisfied: setuptools>=21.0.0 in /usr/local/lib/python3.6/dist-packages (from kubernetes<12.0.0,>=8.0.0->kfp) (45.1.0)\n",
      "Requirement already satisfied: requests in /usr/local/lib/python3.6/dist-packages (from kubernetes<12.0.0,>=8.0.0->kfp) (2.22.0)\n",
      "Requirement already satisfied: six>=1.9.0 in /usr/lib/python3/dist-packages (from kubernetes<12.0.0,>=8.0.0->kfp) (1.11.0)\n",
      "Requirement already satisfied: urllib3>=1.24.2 in /usr/local/lib/python3.6/dist-packages (from kubernetes<12.0.0,>=8.0.0->kfp) (1.25.8)\n",
      "Requirement already satisfied: python-dateutil>=2.5.3 in /usr/local/lib/python3.6/dist-packages (from kubernetes<12.0.0,>=8.0.0->kfp) (2.8.1)\n",
      "Requirement already satisfied: requests-oauthlib in /usr/local/lib/python3.6/dist-packages (from kubernetes<12.0.0,>=8.0.0->kfp) (1.3.0)\n",
      "Requirement already satisfied: rsa<4.1,>=3.1.4 in /usr/local/lib/python3.6/dist-packages (from google-auth>=1.6.1->kfp) (4.0)\n",
      "Requirement already satisfied: cachetools<5.0,>=2.0.0 in /usr/local/lib/python3.6/dist-packages (from google-auth>=1.6.1->kfp) (4.0.0)\n",
      "Requirement already satisfied: pyasn1-modules>=0.2.1 in /usr/local/lib/python3.6/dist-packages (from google-auth>=1.6.1->kfp) (0.2.8)\n",
      "Requirement already satisfied: pyrsistent>=0.14.0 in /usr/local/lib/python3.6/dist-packages (from jsonschema>=3.0.1->kfp) (0.15.7)\n",
      "Requirement already satisfied: attrs>=17.4.0 in /usr/local/lib/python3.6/dist-packages (from jsonschema>=3.0.1->kfp) (19.3.0)\n",
      "Requirement already satisfied: importlib-metadata; python_version < \"3.8\" in /usr/local/lib/python3.6/dist-packages (from jsonschema>=3.0.1->kfp) (1.4.0)\n",
      "Requirement already satisfied: wrapt<2,>=1.10 in /usr/local/lib/python3.6/dist-packages (from Deprecated->kfp) (1.11.2)\n",
      "Requirement already satisfied: wheel in /usr/lib/python3/dist-packages (from strip-hints->kfp) (0.30.0)\n",
      "Requirement already satisfied: google-api-core<2.0.0dev,>=1.16.0 in /usr/local/lib/python3.6/dist-packages (from google-cloud-core<2.0dev,>=1.2.0->google-cloud-storage>=1.13.0->kfp) (1.16.0)\n",
      "Requirement already satisfied: idna<2.9,>=2.5 in /usr/lib/python3/dist-packages (from requests->kubernetes<12.0.0,>=8.0.0->kfp) (2.6)\n",
      "Requirement already satisfied: chardet<3.1.0,>=3.0.2 in /usr/local/lib/python3.6/dist-packages (from requests->kubernetes<12.0.0,>=8.0.0->kfp) (3.0.4)\n",
      "Requirement already satisfied: oauthlib>=3.0.0 in /usr/local/lib/python3.6/dist-packages (from requests-oauthlib->kubernetes<12.0.0,>=8.0.0->kfp) (3.1.0)\n",
      "Requirement already satisfied: pyasn1>=0.1.3 in /usr/local/lib/python3.6/dist-packages (from rsa<4.1,>=3.1.4->google-auth>=1.6.1->kfp) (0.4.8)\n",
      "Requirement already satisfied: zipp>=0.5 in /usr/local/lib/python3.6/dist-packages (from importlib-metadata; python_version < \"3.8\"->jsonschema>=3.0.1->kfp) (2.1.0)\n",
      "Requirement already satisfied: googleapis-common-protos<2.0dev,>=1.6.0 in /usr/local/lib/python3.6/dist-packages (from google-api-core<2.0.0dev,>=1.16.0->google-cloud-core<2.0dev,>=1.2.0->google-cloud-storage>=1.13.0->kfp) (1.51.0)\n",
      "Requirement already satisfied: protobuf>=3.4.0 in /usr/local/lib/python3.6/dist-packages (from google-api-core<2.0.0dev,>=1.16.0->google-cloud-core<2.0dev,>=1.2.0->google-cloud-storage>=1.13.0->kfp) (3.11.2)\n",
      "Requirement already satisfied: pytz in /usr/local/lib/python3.6/dist-packages (from google-api-core<2.0.0dev,>=1.16.0->google-cloud-core<2.0dev,>=1.2.0->google-cloud-storage>=1.13.0->kfp) (2019.3)\n",
      "Building wheels for collected packages: kfp, kfp-server-api, strip-hints\n",
      "  Building wheel for kfp (setup.py) ... \u001b[?25ldone\n",
      "\u001b[?25h  Created wheel for kfp: filename=kfp-1.0.0-py3-none-any.whl size=160799 sha256=44709e1c73af752dea404cea1761e8bd497aa8456cbed54b78504c9d68382279\n",
      "  Stored in directory: /home/jovyan/.cache/pip/wheels/a1/4d/1d/532b25d0ea5bf28d352c8973b8ce9b1d7f8f5220b236af1c62\n",
      "  Building wheel for kfp-server-api (setup.py) ... \u001b[?25ldone\n",
      "\u001b[?25h  Created wheel for kfp-server-api: filename=kfp_server_api-1.0.0-py3-none-any.whl size=105028 sha256=9cd6ff7ac1bce0ce21850d40b29ff55d9f64df696f3831375c5226990fd91233\n",
      "  Stored in directory: /home/jovyan/.cache/pip/wheels/c9/65/08/c985cd0191974934cd16f91b4c43a83779b90e87c0773ada32\n",
      "  Building wheel for strip-hints (setup.py) ... \u001b[?25ldone\n",
      "\u001b[?25h  Created wheel for strip-hints: filename=strip_hints-0.1.9-py2.py3-none-any.whl size=24671 sha256=165f32105991de097523e3110ee2f284cddba6c7a61509ae7f42ea74fa144486\n",
      "  Stored in directory: /home/jovyan/.cache/pip/wheels/21/6d/fa/7ed7c0560e1ef39ebabd5cc0241e7fca711660bae1ad752e2b\n",
      "Successfully built kfp kfp-server-api strip-hints\n",
      "Installing collected packages: requests-toolbelt, kfp-server-api, tabulate, Deprecated, strip-hints, kfp\n",
      "\u001b[33m  WARNING: The script tabulate is installed in '/home/jovyan/.local/bin' which is not on PATH.\n",
      "  Consider adding this directory to PATH or, if you prefer to suppress this warning, use --no-warn-script-location.\u001b[0m\n",
      "\u001b[33m  WARNING: The script strip-hints is installed in '/home/jovyan/.local/bin' which is not on PATH.\n",
      "  Consider adding this directory to PATH or, if you prefer to suppress this warning, use --no-warn-script-location.\u001b[0m\n",
      "\u001b[33m  WARNING: The scripts dsl-compile and kfp are installed in '/home/jovyan/.local/bin' which is not on PATH.\n",
      "  Consider adding this directory to PATH or, if you prefer to suppress this warning, use --no-warn-script-location.\u001b[0m\n",
      "Successfully installed Deprecated-1.2.10 kfp-1.0.0 kfp-server-api-1.0.0 requests-toolbelt-0.9.1 strip-hints-0.1.9 tabulate-0.8.7\n",
      "\u001b[33mWARNING: You are using pip version 20.0.2; however, version 20.1.1 is available.\n",
      "You should consider upgrading via the '/usr/bin/python3 -m pip install --upgrade pip' command.\u001b[0m\n"
     ]
    }
   ],
   "source": [
    "!pip install kfp --user"
   ]
  },
  {
   "cell_type": "markdown",
   "metadata": {},
   "source": [
    "## Restart Notebook Kernel"
   ]
  },
  {
   "cell_type": "code",
   "execution_count": null,
   "metadata": {},
   "outputs": [
    {
     "data": {
      "text/html": [
       "<script>Jupyter.notebook.kernel.restart()</script>"
      ]
     },
     "metadata": {},
     "output_type": "display_data"
    }
   ],
   "source": [
    "from IPython.display import display_html\n",
    "display_html(\"<script>Jupyter.notebook.kernel.restart()</script>\",raw=True)"
   ]
  },
  {
   "cell_type": "markdown",
   "metadata": {},
   "source": [
    "### Import libraries"
   ]
  },
  {
   "cell_type": "code",
   "execution_count": 1,
   "metadata": {},
   "outputs": [],
   "source": [
    "import kfp\n",
    "import os\n",
    "import yaml\n",
    "import calendar\n",
    "import time\n",
    "import pandas as pd\n",
    "import numpy as np\n",
    "import requests\n",
    "import json\n",
    "\n",
    "from kubernetes import client as k8s_client\n",
    "from kubernetes import config as k8s_config\n",
    "from kubernetes.client.rest import ApiException\n",
    "\n",
    "k8s_config.load_incluster_config()\n",
    "api_client = k8s_client.CoreV1Api()\n",
    "custom_api=k8s_client.CustomObjectsApi()"
   ]
  },
  {
   "cell_type": "markdown",
   "metadata": {},
   "source": [
    "### Component files Declarations"
   ]
  },
  {
   "cell_type": "code",
   "execution_count": 2,
   "metadata": {},
   "outputs": [],
   "source": [
    "path='cisco-kubeflow-starter-pack/apps/networking/ble-localization/onprem/pipelines/'\n",
    "component_root_katib= path+'components/v2/tf-katib/'\n",
    "component_root_train= path+'components/v2/seldon/'"
   ]
  },
  {
   "cell_type": "markdown",
   "metadata": {},
   "source": [
    "#### Components Description\n",
    "\n",
    "tf_katib_op &nbsp;&nbsp;&nbsp;&nbsp;&nbsp;&nbsp;&nbsp;&nbsp;&nbsp;&nbsp;&nbsp;&nbsp;&nbsp;&nbsp; - &nbsp;&nbsp;&nbsp; Run katib for BLERSSI to get optimal hyperparamater values and use it to train model. <br>\n",
    "tf_train_model_op &nbsp;&nbsp;&nbsp; - &nbsp; Load dataset from nfs-volume, train BLERSSI model  and save model in nfs-volume. <br> "
   ]
  },
  {
   "cell_type": "markdown",
   "metadata": {},
   "source": [
    "To [build](https://github.com/CiscoAI/cisco-kubeflow-starter-pack/tree/dev/apps/networking/ble-localization/onprem/seldon/model-server) the docker image and push into your Docker Hub. It will be used when adding a new inference server"
   ]
  },
  {
   "cell_type": "markdown",
   "metadata": {},
   "source": [
    "## Adding a new inference server \n",
    "The list of available inference servers in Seldon Core is maintained in the **seldon-config** configmap, which lives in the same namespace as your Seldon Core operator. In particular, the **predictor_servers** key holds the JSON config for each inference server. \n",
    "\n",
    "[Refer to for more information](https://docs.seldon.io/projects/seldon-core/en/v1.1.0/servers/custom.html)"
   ]
  },
  {
   "cell_type": "code",
   "execution_count": 3,
   "metadata": {},
   "outputs": [
    {
     "data": {
      "text/plain": [
       "{'api_version': 'v1',\n",
       " 'binary_data': None,\n",
       " 'data': {'credentials': '{\"gcs\":{\"gcsCredentialFileName\":\"gcloud-application-credentials.json\"},\"s3\":{\"s3AccessKeyIDName\":\"awsAccessKeyID\",\"s3SecretAccessKeyName\":\"awsSecretAccessKey\"}}',\n",
       "          'explainer': '{\"image\":\"seldonio/alibiexplainer:1.2.1\"}',\n",
       "          'predictor_servers': '{\"MLFLOW_SERVER\":{\"grpc\":{\"defaultImageVersion\":\"1.2.1\",\"image\":\"seldonio/mlflowserver_grpc\"},\"rest\":{\"defaultImageVersion\":\"1.2.1\",\"image\":\"seldonio/mlflowserver_rest\"}},\"SKLEARN_SERVER\":{\"grpc\":{\"defaultImageVersion\":\"1.2.1\",\"image\":\"seldonio/sklearnserver_grpc\"},\"rest\":{\"defaultImageVersion\":\"1.2.1\",\"image\":\"seldonio/sklearnserver_rest\"}},\"TENSORFLOW_SERVER\":{\"grpc\":{\"defaultImageVersion\":\"1.2.1\",\"image\":\"seldonio/tfserving-proxy_grpc\"},\"rest\":{\"defaultImageVersion\":\"1.2.1\",\"image\":\"seldonio/tfserving-proxy_rest\"},\"tensorflow\":true,\"tfImage\":\"tensorflow/serving:2.1.0\"},\"XGBOOST_SERVER\":{\"grpc\":{\"defaultImageVersion\":\"1.2.1\",\"image\":\"seldonio/xgboostserver_grpc\"},\"rest\":{\"defaultImageVersion\":\"1.2.1\",\"image\":\"seldonio/xgboostserver_rest\"}}, '\n",
       "                               '\"CUSTOM_INFERENCE_SERVER\":{\"rest\":{\"defaultImageVersion\":\"1.0\",\"image\":\"samba07/blerssi-seldon\"}}}',\n",
       "          'storageInitializer': '{\"cpuLimit\":\"1\",\"cpuRequest\":\"100m\",\"image\":\"gcr.io/kfserving/storage-initializer:0.2.2\",\"memoryLimit\":\"1Gi\",\"memoryRequest\":\"100Mi\"}'},\n",
       " 'kind': 'ConfigMap',\n",
       " 'metadata': {'annotations': {'kubectl.kubernetes.io/last-applied-configuration': '{\"apiVersion\":\"v1\",\"data\":{\"credentials\":\"{\\\\\"gcs\\\\\":{\\\\\"gcsCredentialFileName\\\\\":\\\\\"gcloud-application-credentials.json\\\\\"},\\\\\"s3\\\\\":{\\\\\"s3AccessKeyIDName\\\\\":\\\\\"awsAccessKeyID\\\\\",\\\\\"s3SecretAccessKeyName\\\\\":\\\\\"awsSecretAccessKey\\\\\"}}\",\"explainer\":\"{\\\\\"image\\\\\":\\\\\"seldonio/alibiexplainer:1.2.1\\\\\"}\",\"predictor_servers\":\"{\\\\\"MLFLOW_SERVER\\\\\":{\\\\\"grpc\\\\\":{\\\\\"defaultImageVersion\\\\\":\\\\\"1.2.1\\\\\",\\\\\"image\\\\\":\\\\\"seldonio/mlflowserver_grpc\\\\\"},\\\\\"rest\\\\\":{\\\\\"defaultImageVersion\\\\\":\\\\\"1.2.1\\\\\",\\\\\"image\\\\\":\\\\\"seldonio/mlflowserver_rest\\\\\"}},\\\\\"SKLEARN_SERVER\\\\\":{\\\\\"grpc\\\\\":{\\\\\"defaultImageVersion\\\\\":\\\\\"1.2.1\\\\\",\\\\\"image\\\\\":\\\\\"seldonio/sklearnserver_grpc\\\\\"},\\\\\"rest\\\\\":{\\\\\"defaultImageVersion\\\\\":\\\\\"1.2.1\\\\\",\\\\\"image\\\\\":\\\\\"seldonio/sklearnserver_rest\\\\\"}},\\\\\"TENSORFLOW_SERVER\\\\\":{\\\\\"grpc\\\\\":{\\\\\"defaultImageVersion\\\\\":\\\\\"1.2.1\\\\\",\\\\\"image\\\\\":\\\\\"seldonio/tfserving-proxy_grpc\\\\\"},\\\\\"rest\\\\\":{\\\\\"defaultImageVersion\\\\\":\\\\\"1.2.1\\\\\",\\\\\"image\\\\\":\\\\\"seldonio/tfserving-proxy_rest\\\\\"},\\\\\"tensorflow\\\\\":true,\\\\\"tfImage\\\\\":\\\\\"tensorflow/serving:2.1.0\\\\\"},\\\\\"XGBOOST_SERVER\\\\\":{\\\\\"grpc\\\\\":{\\\\\"defaultImageVersion\\\\\":\\\\\"1.2.1\\\\\",\\\\\"image\\\\\":\\\\\"seldonio/xgboostserver_grpc\\\\\"},\\\\\"rest\\\\\":{\\\\\"defaultImageVersion\\\\\":\\\\\"1.2.1\\\\\",\\\\\"image\\\\\":\\\\\"seldonio/xgboostserver_rest\\\\\"}}}\",\"storageInitializer\":\"{\\\\\"cpuLimit\\\\\":\\\\\"1\\\\\",\\\\\"cpuRequest\\\\\":\\\\\"100m\\\\\",\\\\\"image\\\\\":\\\\\"gcr.io/kfserving/storage-initializer:0.2.2\\\\\",\\\\\"memoryLimit\\\\\":\\\\\"1Gi\\\\\",\\\\\"memoryRequest\\\\\":\\\\\"100Mi\\\\\"}\"},\"kind\":\"ConfigMap\",\"metadata\":{\"annotations\":{},\"labels\":{\"app\":\"seldon\",\"app.kubernetes.io/instance\":\"seldon-core\",\"app.kubernetes.io/name\":\"seldon-core-operator\",\"app.kubernetes.io/version\":\"1.2.1\",\"control-plane\":\"seldon-controller-manager\"},\"name\":\"seldon-config\",\"namespace\":\"kubeflow\"}}\\n'},\n",
       "              'cluster_name': None,\n",
       "              'creation_timestamp': datetime.datetime(2020, 7, 30, 7, 17, 33, tzinfo=tzlocal()),\n",
       "              'deletion_grace_period_seconds': None,\n",
       "              'deletion_timestamp': None,\n",
       "              'finalizers': None,\n",
       "              'generate_name': None,\n",
       "              'generation': None,\n",
       "              'initializers': None,\n",
       "              'labels': {'app': 'seldon',\n",
       "                         'app.kubernetes.io/instance': 'seldon-core',\n",
       "                         'app.kubernetes.io/name': 'seldon-core-operator',\n",
       "                         'app.kubernetes.io/version': '1.2.1',\n",
       "                         'control-plane': 'seldon-controller-manager'},\n",
       "              'managed_fields': None,\n",
       "              'name': 'seldon-config',\n",
       "              'namespace': 'kubeflow',\n",
       "              'owner_references': None,\n",
       "              'resource_version': '11978109',\n",
       "              'self_link': '/api/v1/namespaces/kubeflow/configmaps/seldon-config',\n",
       "              'uid': '07f6f8e7-4744-472b-b07d-2c6f8699e28f'}}"
      ]
     },
     "execution_count": 3,
     "metadata": {},
     "output_type": "execute_result"
    }
   ],
   "source": [
    "api_client.patch_namespaced_config_map(name=\"seldon-config\", namespace=\"kubeflow\",pretty=True, body={\"data\":{\"predictor_servers\":'{\"MLFLOW_SERVER\":{\"grpc\":{\"defaultImageVersion\":\"1.2.1\",\"image\":\"seldonio/mlflowserver_grpc\"},\"rest\":{\"defaultImageVersion\":\"1.2.1\",\"image\":\"seldonio/mlflowserver_rest\"}},\"SKLEARN_SERVER\":{\"grpc\":{\"defaultImageVersion\":\"1.2.1\",\"image\":\"seldonio/sklearnserver_grpc\"},\"rest\":{\"defaultImageVersion\":\"1.2.1\",\"image\":\"seldonio/sklearnserver_rest\"}},\"TENSORFLOW_SERVER\":{\"grpc\":{\"defaultImageVersion\":\"1.2.1\",\"image\":\"seldonio/tfserving-proxy_grpc\"},\"rest\":{\"defaultImageVersion\":\"1.2.1\",\"image\":\"seldonio/tfserving-proxy_rest\"},\"tensorflow\":true,\"tfImage\":\"tensorflow/serving:2.1.0\"},\"XGBOOST_SERVER\":{\"grpc\":{\"defaultImageVersion\":\"1.2.1\",\"image\":\"seldonio/xgboostserver_grpc\"},\"rest\":{\"defaultImageVersion\":\"1.2.1\",\"image\":\"seldonio/xgboostserver_rest\"}}, \"CUSTOM_INFERENCE_SERVER\":{\"rest\":{\"defaultImageVersion\":\"1.0\",\"image\":\"samba07/blerssi-seldon\"}}}'}})"
   ]
  },
  {
   "cell_type": "markdown",
   "metadata": {},
   "source": [
    "### Load components from respective .YAML config files"
   ]
  },
  {
   "cell_type": "code",
   "execution_count": 4,
   "metadata": {},
   "outputs": [],
   "source": [
    "tf_katib_op = kfp.components.load_component_from_file(os.path.join(component_root_katib, 'component.yaml')) \n",
    "tf_train_model_op = kfp.components.load_component_from_file(os.path.join(component_root_train, \"component.yaml\"))"
   ]
  },
  {
   "cell_type": "markdown",
   "metadata": {},
   "source": [
    "## Define SeldonDeployment\n",
    "Create an SeldonDeployment with a blerssi model"
   ]
  },
  {
   "cell_type": "code",
   "execution_count": 5,
   "metadata": {},
   "outputs": [
    {
     "name": "stdout",
     "output_type": "stream",
     "text": [
      "1596093702\n"
     ]
    }
   ],
   "source": [
    "MODEL_PATH=\"Model_Blerssi\"\n",
    "# Creating timestamp\n",
    "timestamp = str(calendar.timegm(time.gmtime()))\n",
    "print(timestamp)\n",
    "seldon=f\"\"\"apiVersion: machinelearning.seldon.io/v1alpha2\n",
    "kind: SeldonDeployment\n",
    "metadata:\n",
    "  name: blerssi-{timestamp}\n",
    "spec:\n",
    "  name: blerssi\n",
    "  predictors:\n",
    "  - graph:\n",
    "      children: []\n",
    "      implementation: CUSTOM_INFERENCE_SERVER\n",
    "      modelUri: pvc://nfs/{MODEL_PATH}\n",
    "      name: blerssi\n",
    "    explainer:\n",
    "      containerSpec:\n",
    "          image: seldonio/alibiexplainer:1.2.2-dev\n",
    "          name: explainer\n",
    "      type: AnchorTabular\n",
    "      modelUri: pvc://nfs/{MODEL_PATH}\n",
    "    name: default\n",
    "    replicas: 1\n",
    "\"\"\"\n",
    "seldon_resource=yaml.safe_load(seldon)"
   ]
  },
  {
   "cell_type": "markdown",
   "metadata": {},
   "source": [
    "### Define Volume and Volume Mounts"
   ]
  },
  {
   "cell_type": "code",
   "execution_count": 6,
   "metadata": {},
   "outputs": [],
   "source": [
    "nfs_pvc = k8s_client.V1PersistentVolumeClaimVolumeSource(claim_name='nfs')\n",
    "nfs_volume = k8s_client.V1Volume(name='nfs', persistent_volume_claim=nfs_pvc)\n",
    "nfs_volume_mount = k8s_client.V1VolumeMount(mount_path='/mnt/', name='nfs')"
   ]
  },
  {
   "cell_type": "markdown",
   "metadata": {},
   "source": [
    "### Define pipeline function"
   ]
  },
  {
   "cell_type": "code",
   "execution_count": 7,
   "metadata": {},
   "outputs": [
    {
     "data": {
      "text/html": [
       "Experiment link <a href=\"/pipeline/#/experiments/details/be2bd546-402d-40c4-89c7-8b288ba541da\" target=\"_blank\" >here</a>"
      ],
      "text/plain": [
       "<IPython.core.display.HTML object>"
      ]
     },
     "metadata": {},
     "output_type": "display_data"
    },
    {
     "data": {
      "text/html": [
       "Run link <a href=\"/pipeline/#/runs/details/3b4eb7a7-e1c1-4765-afb2-234d20eb2026\" target=\"_blank\" >here</a>"
      ],
      "text/plain": [
       "<IPython.core.display.HTML object>"
      ]
     },
     "metadata": {},
     "output_type": "display_data"
    },
    {
     "data": {
      "text/plain": [
       "RunPipelineResult(run_id=3b4eb7a7-e1c1-4765-afb2-234d20eb2026)"
      ]
     },
     "execution_count": 7,
     "metadata": {},
     "output_type": "execute_result"
    }
   ],
   "source": [
    "def blerssi_pipeline():\n",
    "    #Defining Task to run katib\n",
    "    tf_katib_task = tf_katib_op(timestamp=timestamp, image=\"docker.io/samba07/blerssi-seldon-train:0.1\")\n",
    "    tf_katib_task.add_volume(nfs_volume)\n",
    "    tf_katib_task.add_volume_mount(nfs_volume_mount)    \n",
    "    \n",
    "    #Defining Task for Model training\n",
    "    model_dir=os.path.join(\"/mnt\",MODEL_PATH)\n",
    "    export_dir=os.path.join(\"/mnt\",MODEL_PATH)\n",
    "    tf_train_model_task = tf_train_model_op(timestamp=timestamp, tf_model_dir=model_dir, tf_export_dir=export_dir)\n",
    "    tf_train_model_task.add_volume(nfs_volume)\n",
    "    tf_train_model_task.add_volume_mount(nfs_volume_mount)\n",
    "    tf_train_model_task.after(tf_katib_task)\n",
    "\n",
    "    seldon_serv=kfp.dsl.ResourceOp(name=\"seldon deploy\",k8s_resource=seldon_resource)\n",
    "    seldon_serv.add_volume(nfs_volume)\n",
    "    seldon_serv.after(tf_train_model_task)\n",
    "    \n",
    "#Creating a pipeline run\n",
    "kfp.Client().create_run_from_pipeline_func(blerssi_pipeline, arguments={})"
   ]
  },
  {
   "cell_type": "markdown",
   "metadata": {},
   "source": [
    "## Run a Prediction\n",
    "Before run a prediction, make sure that Pipeline Run is Complete in the Dashboard"
   ]
  },
  {
   "cell_type": "code",
   "execution_count": 8,
   "metadata": {},
   "outputs": [
    {
     "name": "stdout",
     "output_type": "stream",
     "text": [
      "NAME                 AGE\r\n",
      "blerssi-1596093702   6m39s\r\n"
     ]
    }
   ],
   "source": [
    "#First we can check if our Seldon deployment is running\n",
    "!kubectl -n kubeflow get seldondeployment"
   ]
  },
  {
   "cell_type": "code",
   "execution_count": 9,
   "metadata": {},
   "outputs": [],
   "source": [
    "%%bash --out SELDON_DEP_NAME\n",
    "echo \"$(kubectl -n kubeflow get seldondeployment -o jsonpath='{.items[0].metadata.name}')\""
   ]
  },
  {
   "cell_type": "markdown",
   "metadata": {},
   "source": [
    "### Wait for state to become available"
   ]
  },
  {
   "cell_type": "code",
   "execution_count": 10,
   "metadata": {},
   "outputs": [
    {
     "name": "stdout",
     "output_type": "stream",
     "text": [
      "Status: Available\n"
     ]
    }
   ],
   "source": [
    "status=False\n",
    "while True:\n",
    "    seldon_status=custom_api.get_namespaced_custom_object_status(group=\"machinelearning.seldon.io\", version=\"v1alpha2\", namespace=\"kubeflow\", plural=\"seldondeployments\", name=SELDON_DEP_NAME.strip())\n",
    "    if seldon_status[\"status\"][\"state\"] == \"Available\":\n",
    "        status=True\n",
    "        print(\"Status: %s\"%seldon_status[\"status\"][\"state\"])\n",
    "    if status:\n",
    "        break\n",
    "    print(\"Status: %s\"%seldon_status[\"status\"][\"state\"])\n",
    "    time.sleep(30)"
   ]
  },
  {
   "cell_type": "code",
   "execution_count": 11,
   "metadata": {},
   "outputs": [],
   "source": [
    "CLUSTER='ucs' #where your cluster running 'gcp' or 'ucs'"
   ]
  },
  {
   "cell_type": "code",
   "execution_count": 12,
   "metadata": {},
   "outputs": [],
   "source": [
    "%%bash -s \"$CLUSTER\" --out NODE_IP\n",
    "if [ $1 = \"ucs\" ]\n",
    "then\n",
    "    echo \"$(kubectl get node -o=jsonpath='{.items[0].status.addresses[0].address}')\"\n",
    "else\n",
    "    echo \"$(kubectl get node -o=jsonpath='{.items[0].status.addresses[1].address}')\"\n",
    "fi"
   ]
  },
  {
   "cell_type": "code",
   "execution_count": 13,
   "metadata": {},
   "outputs": [],
   "source": [
    "%%bash --out INGRESS_PORT\n",
    "INGRESS_GATEWAY=\"istio-ingressgateway\"\n",
    "echo \"$(kubectl -n istio-system get service $INGRESS_GATEWAY -o jsonpath='{.spec.ports[1].nodePort}')\""
   ]
  },
  {
   "cell_type": "markdown",
   "metadata": {},
   "source": [
    "### Data for prediction"
   ]
  },
  {
   "cell_type": "code",
   "execution_count": 14,
   "metadata": {},
   "outputs": [
    {
     "data": {
      "text/plain": [
       "array([[1.   , 1.   , 0.4  , 1.   , 0.385, 0.28 , 0.405, 1.   , 1.   ,\n",
       "        1.   , 1.   , 1.   , 1.   ]])"
      ]
     },
     "execution_count": 14,
     "metadata": {},
     "output_type": "execute_result"
    }
   ],
   "source": [
    "path=\"cisco-kubeflow-starter-pack/apps/networking/ble-localization/onprem\"\n",
    "df_full = pd.read_csv(os.path.join(path,'data/iBeacon_RSSI_Unlabeled_truncated.csv')) #Labeled dataset\n",
    "COLUMNS = list(df_full.columns)\n",
    "FEATURES = COLUMNS[2:]\n",
    "  # Input Data Preprocessing \n",
    "df_full = df_full.drop(['date'],axis = 1)\n",
    "df_full = df_full.drop(['location'],axis = 1)\n",
    "df_full[FEATURES] = (df_full[FEATURES])/(-200)\n",
    "input_data=df_full.to_numpy()[:1]\n",
    "input_data"
   ]
  },
  {
   "cell_type": "code",
   "execution_count": 15,
   "metadata": {},
   "outputs": [],
   "source": [
    "headers={\"Content-Type\": \"application/json\"}\n",
    "def inference_predict(X):\n",
    "    data={\"data\":{\"ndarray\":X.tolist()}}\n",
    "    url = f\"http://{NODE_IP.strip()}:{INGRESS_PORT.strip()}/seldon/kubeflow/{SELDON_DEP_NAME.strip()}/api/v1.0/predictions\"\n",
    "    response=requests.post(url, data=json.dumps(data), headers=headers)\n",
    "    probabilities=response.json()['data']['ndarray']\n",
    "    for prob in probabilities:\n",
    "        cls_id=np.argmax(prob)\n",
    "        print(\"Probability: %s\"%prob[cls_id])\n",
    "        print(\"Class-id: %s\"%cls_id)\n",
    "\n",
    "def explain(X):\n",
    "    if np.ndim(X)==2:\n",
    "        data={\"data\":{\"ndarray\":X.tolist()}}\n",
    "    else:\n",
    "        data={\"data\":{\"ndarray\":[X.tolist()]}}\n",
    "    url = f\"http://{NODE_IP.strip()}:{INGRESS_PORT.strip()}/seldon/kubeflow/%s-explainer/default/api/v1.0/explain\"%SELDON_DEP_NAME.strip()\n",
    "    response=requests.post(url, data=json.dumps(data), headers=headers)\n",
    "    print('Anchor: %s' % (' AND '.join(response.json()['names'])))\n",
    "    print('Coverage: %.2f' % response.json()['coverage'])"
   ]
  },
  {
   "cell_type": "code",
   "execution_count": 16,
   "metadata": {},
   "outputs": [
    {
     "name": "stdout",
     "output_type": "stream",
     "text": [
      "Probability: 0.07242913544178009\n",
      "Class-id: 52\n"
     ]
    }
   ],
   "source": [
    "inference_predict(input_data)"
   ]
  },
  {
   "cell_type": "markdown",
   "metadata": {},
   "source": [
    "## Prediction of the model and explain"
   ]
  },
  {
   "cell_type": "code",
   "execution_count": 17,
   "metadata": {},
   "outputs": [
    {
     "name": "stdout",
     "output_type": "stream",
     "text": [
      "Anchor: 0.39 < b3002 <= 1.00 AND 0.40 < b3004 <= 1.00 AND b3009 <= 1.00 AND b3012 <= 1.00 AND b3011 <= 1.00 AND b3013 <= 1.00 AND b3006 <= 1.00 AND b3003 <= 1.00 AND b3010 <= 1.00 AND b3005 <= 1.00 AND b3001 <= 1.00 AND b3007 <= 1.00 AND b3008 <= 1.00\n",
      "Coverage: 0.48\n"
     ]
    }
   ],
   "source": [
    "explain(input_data)"
   ]
  },
  {
   "cell_type": "markdown",
   "metadata": {},
   "source": [
    "## CleanUp\n",
    "### Delete Seldon Serving Deployment"
   ]
  },
  {
   "cell_type": "code",
   "execution_count": 18,
   "metadata": {},
   "outputs": [
    {
     "data": {
      "text/plain": [
       "{'kind': 'Status',\n",
       " 'apiVersion': 'v1',\n",
       " 'metadata': {},\n",
       " 'status': 'Success',\n",
       " 'details': {'name': 'blerssi-1596093702',\n",
       "  'group': 'machinelearning.seldon.io',\n",
       "  'kind': 'seldondeployments',\n",
       "  'uid': '0cff0dc8-93a0-49e8-99af-ddaaa7b91be4'}}"
      ]
     },
     "execution_count": 18,
     "metadata": {},
     "output_type": "execute_result"
    }
   ],
   "source": [
    "custom_api.delete_namespaced_custom_object(group=\"machinelearning.seldon.io\", version=\"v1alpha2\", namespace=\"kubeflow\", plural=\"seldondeployments\", name=SELDON_DEP_NAME.strip(), body=k8s_client.V1DeleteOptions())"
   ]
  },
  {
   "cell_type": "code",
   "execution_count": null,
   "metadata": {},
   "outputs": [],
   "source": []
  }
 ],
 "metadata": {
  "kernelspec": {
   "display_name": "Python 3",
   "language": "python",
   "name": "python3"
  },
  "language_info": {
   "codemirror_mode": {
    "name": "ipython",
    "version": 3
   },
   "file_extension": ".py",
   "mimetype": "text/x-python",
   "name": "python",
   "nbconvert_exporter": "python",
   "pygments_lexer": "ipython3",
   "version": "3.6.9"
  }
 },
 "nbformat": 4,
 "nbformat_minor": 2
}
