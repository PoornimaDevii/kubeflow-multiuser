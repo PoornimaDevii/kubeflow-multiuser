{
 "cells": [
  {
   "cell_type": "markdown",
   "metadata": {},
   "source": [
    "## BLERSSI Pipeline Deployment in UCS"
   ]
  },
  {
   "cell_type": "markdown",
   "metadata": {},
   "source": [
    "### Import libraries"
   ]
  },
  {
   "cell_type": "code",
   "execution_count": null,
   "metadata": {},
   "outputs": [],
   "source": [
    "import kfp\n",
    "import os\n",
    "from kubernetes import client, config\n",
    "import calendar\n",
    "import time"
   ]
  },
  {
   "cell_type": "markdown",
   "metadata": {},
   "source": [
    "### Component files Declarations"
   ]
  },
  {
   "cell_type": "code",
   "execution_count": null,
   "metadata": {},
   "outputs": [],
   "source": [
    "notebook_environment = \"local\" # or 'in-cluster'\n",
    "\n",
    "if notebook_environment == \"in-cluster\":\n",
    "    path='cisco-kubeflow-starter-pack/apps/networking/ble-localization/onprem/pipelines/'\n",
    "    !git clone https://github.com/CiscoAI/cisco-kubeflow-starter-pack\n",
    "else:\n",
    "    path=\"apps/networking/ble-localization/onprem/pipelines/\"\n",
    "\n",
    "component_root_train= path+'components/v2/tf-model-train/'\n",
    "component_root_serve = path+'components/v2/tf-serving-deploy-service/'\n",
    "component_root_webui = path+'components/v2/tf-webui-deploy-service/'\n",
    "component_root_tensorboard= path+'components/v2/tf-tensorboard-deploy-service/'"
   ]
  },
  {
   "cell_type": "markdown",
   "metadata": {
    "jupyter": {
     "source_hidden": true
    }
   },
   "source": [
    "#### Components Description\n",
    "\n",
    "tf_train_model_op &nbsp;&nbsp;&nbsp; - &nbsp; Load dataset from nfs-volume, train BLERSSI model  and save model in nfs-volume. <br> \n",
    "tf_serve_model_op &nbsp; - &nbsp; Load BLERSSI model from nfs-volume and serve the model using tf-serving for later prediction. <br> \n",
    "tf_webui_op &nbsp;&nbsp;&nbsp;&nbsp;&nbsp;&nbsp;&nbsp;&nbsp;&nbsp;&nbsp;&nbsp;&nbsp; - &nbsp; Web application client UI loads Unlabeled data, does preprocessing, send API request to serving and display Predicted Location. <br> \n",
    "tf_tensor_op &nbsp;&nbsp;&nbsp;&nbsp;&nbsp;&nbsp;&nbsp;&nbsp;&nbsp;&nbsp;&nbsp;&nbsp;  - &nbsp; Tensorboard UI which provides the visualization metrics such as loss and accuracy, model graph (ops and layers) and histograms of weights, biases, or other tensors for BLERSSI Model <br> "
   ]
  },
  {
   "cell_type": "markdown",
   "metadata": {},
   "source": [
    "### Load components from respective .YAML config files"
   ]
  },
  {
   "cell_type": "code",
   "execution_count": null,
   "metadata": {},
   "outputs": [],
   "source": [
    "tf_train_model_op = kfp.components.load_component_from_file(os.path.join(component_root_train, 'component_cpu.yaml')) \n",
    "tf_serve_model_op = kfp.components.load_component_from_file(os.path.join(component_root_serve, 'component.yaml'))\n",
    "tf_webui_op = kfp.components.load_component_from_file(os.path.join(component_root_webui, 'component.yaml'))\n",
    "tf_tensor_op = kfp.components.load_component_from_file(os.path.join(component_root_tensorboard, 'component.yaml'))"
   ]
  },
  {
   "cell_type": "markdown",
   "metadata": {},
   "source": [
    "### Define Volume and Volume Mounts"
   ]
  },
  {
   "cell_type": "code",
   "execution_count": null,
   "metadata": {},
   "outputs": [],
   "source": [
    "nfs_pvc = client.V1PersistentVolumeClaimVolumeSource(claim_name='nfs-wf-volume')\n",
    "nfs_volume = client.V1Volume(name='nfs-wf-volume', persistent_volume_claim=nfs_pvc)\n",
    "nfs_volume_mount = client.V1VolumeMount(mount_path='/mnt/', name='nfs')"
   ]
  },
  {
   "cell_type": "markdown",
   "metadata": {},
   "source": [
    "### Define pipeline function"
   ]
  },
  {
   "cell_type": "code",
   "execution_count": null,
   "metadata": {
    "inputHidden": false,
    "outputExpanded": false,
    "tags": [
     "parameters"
    ]
   },
   "outputs": [],
   "source": [
    "from datetime import datetime\n",
    "\n",
    "# Creating timestamp\n",
    "timestamp = datetime.now().strftime('%Y-%m-%d-%H-%M-%S')\n",
    "\n",
    "def blerssi_pipeline():\n",
    "\n",
    "    #Defining Task for Model training\n",
    "    tf_train_model_task = tf_train_model_op(timestamp=timestamp)\n",
    "    #tf_train_model_task.add_volume(nfs_volume)\n",
    "    tf_train_model_task.add_volume_mount(nfs_volume_mount)\n",
    "    \n",
    "    #Defining Task to perform serving    \n",
    "    tf_serve_model_task = tf_serve_model_op(timestamp=timestamp)\n",
    "    #tf_serve_model_task.add_volume(nfs_volume)\n",
    "    tf_serve_model_task.add_volume_mount(nfs_volume_mount)\n",
    "    tf_serve_model_task.after(tf_train_model_task)\n",
    "\n",
    "    #Defining task for tensorboard creation    \n",
    "    tf_tensorboard_task = tf_tensor_op(timestamp=timestamp)\n",
    "    #tf_tensorboard_task.add_volume(nfs_volume)\n",
    "    tf_tensorboard_task.add_volume_mount(nfs_volume_mount)\n",
    "    tf_tensorboard_task.after(tf_train_model_task)\n",
    "    \n",
    "    \n",
    "    #Defining task for webUI creation\n",
    "    tf_webui_task = tf_webui_op(image_path=\"docker.io/premkarthi/blerssi-webui:v4\",\n",
    "                                timestamp=timestamp)\n",
    "    #tf_webui_task.add_volume(nfs_volume)\n",
    "    tf_webui_task.add_volume_mount(nfs_volume_mount)\n",
    "    tf_webui_task.after(tf_serve_model_task)"
   ]
  },
  {
   "cell_type": "code",
   "execution_count": null,
   "metadata": {
    "collapsed": false,
    "inputHidden": false,
    "jupyter": {
     "outputs_hidden": false
    },
    "outputHidden": false
   },
   "outputs": [],
   "source": [
    "if notebook_environment == \"in-cluster\":\n",
    "    kfp_client = kfp.Client()\n",
    "    kfp_client.create_run_from_pipeline_func(blerssi_pipeline, arguments={})\n",
    "else:\n",
    "    try:\n",
    "        pipeline_package_name = \"blerssi.yaml\"\n",
    "        kfp.compiler.Compiler().compile(blerssi_pipeline, pipeline_package_name)\n",
    "    except RuntimeError:\n",
    "        print(\"Validation failed but you can still run the workflow\")"
   ]
  }
 ],
 "metadata": {
  "kernelspec": {
   "display_name": "Python (kubeflow-fairing)",
   "name": "kubeflow-fairing"
  },
  "language_info": {
   "codemirror_mode": {
    "name": "ipython",
    "version": 3
   },
   "file_extension": ".py",
   "mimetype": "text/x-python",
   "name": "python",
   "nbconvert_exporter": "python",
   "pygments_lexer": "ipython3",
   "version": "3.8.0-final"
  },
  "nteract": {
   "version": "nteract-on-jupyter@2.1.3"
  }
 },
 "nbformat": 4,
 "nbformat_minor": 4
}
